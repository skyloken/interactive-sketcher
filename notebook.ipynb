{
 "metadata": {
  "language_info": {
   "codemirror_mode": {
    "name": "ipython",
    "version": 3
   },
   "file_extension": ".py",
   "mimetype": "text/x-python",
   "name": "python",
   "nbconvert_exporter": "python",
   "pygments_lexer": "ipython3",
   "version": "3.9.2-final"
  },
  "orig_nbformat": 2,
  "kernelspec": {
   "name": "python392jvsc74a57bd027ed3dc916b0f307cc82df7e95254230cfb5325751622bb30f523c27fc195851",
   "display_name": "Python 3.9.2 64-bit ('miniforge3-4.9.2': conda)"
  },
  "metadata": {
   "interpreter": {
    "hash": "27ed3dc916b0f307cc82df7e95254230cfb5325751622bb30f523c27fc195851"
   }
  }
 },
 "nbformat": 4,
 "nbformat_minor": 2,
 "cells": [
  {
   "cell_type": "code",
   "execution_count": 1,
   "metadata": {},
   "outputs": [
    {
     "output_type": "execute_result",
     "data": {
      "text/plain": [
       "2"
      ]
     },
     "metadata": {},
     "execution_count": 1
    }
   ],
   "source": []
  }
 ]
}