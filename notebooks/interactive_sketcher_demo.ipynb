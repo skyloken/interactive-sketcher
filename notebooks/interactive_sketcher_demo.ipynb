{
 "cells": [
  {
   "cell_type": "code",
   "execution_count": 1,
   "metadata": {},
   "outputs": [],
   "source": [
    "import sys\n",
    "\n",
    "sys.path.append(\"../sketchformer\")\n",
    "sys.path.append(\"../src\")\n"
   ]
  },
  {
   "cell_type": "code",
   "execution_count": 2,
   "metadata": {},
   "outputs": [],
   "source": [
    "from isketcher import InteractiveSketcher\n",
    "import tensorflow as tf\n",
    "import numpy as np\n",
    "import pandas as pd\n"
   ]
  },
  {
   "cell_type": "code",
   "execution_count": 3,
   "metadata": {},
   "outputs": [],
   "source": [
    "num_layers = 8\n",
    "d_model = 64\n",
    "dff = 128\n",
    "num_heads = 4\n",
    "dropout_rate = 0.1\n",
    "target_object_num = 41\n",
    "\n",
    "\n",
    "class CustomSchedule(tf.keras.optimizers.schedules.LearningRateSchedule):\n",
    "    def __init__(self, d_model, warmup_steps=4000):\n",
    "        super(CustomSchedule, self).__init__()\n",
    "\n",
    "        self.d_model = d_model\n",
    "        self.d_model = tf.cast(self.d_model, tf.float32)\n",
    "\n",
    "        self.warmup_steps = warmup_steps\n",
    "\n",
    "    def __call__(self, step):\n",
    "        arg1 = tf.math.rsqrt(step)\n",
    "        arg2 = step * (self.warmup_steps ** -1.5)\n",
    "\n",
    "        return tf.math.rsqrt(self.d_model) * tf.math.minimum(arg1, arg2)\n",
    "\n",
    "\n",
    "learning_rate = CustomSchedule(d_model)\n",
    "optimizer = tf.keras.optimizers.Adam(learning_rate, beta_1=0.9, beta_2=0.98,\n",
    "                                     epsilon=1e-9)\n"
   ]
  },
  {
   "cell_type": "code",
   "execution_count": 4,
   "metadata": {},
   "outputs": [
    {
     "name": "stdout",
     "output_type": "stream",
     "text": [
      "Latest checkpoint restored!!\n"
     ]
    }
   ],
   "source": [
    "# create model\n",
    "\n",
    "interactive_sketcher = InteractiveSketcher(\n",
    "    num_layers=num_layers, d_model=d_model, num_heads=num_heads, dff=dff,\n",
    "    object_num=target_object_num, rate=dropout_rate)\n",
    "\n",
    "# restore model\n",
    "checkpoint_path = \"./models/demo4\"\n",
    "\n",
    "ckpt = tf.train.Checkpoint(epoch=tf.Variable(1),\n",
    "                           transformer=interactive_sketcher,\n",
    "                           optimizer=optimizer)\n",
    "\n",
    "ckpt_manager = tf.train.CheckpointManager(\n",
    "    ckpt, checkpoint_path, max_to_keep=5)\n",
    "\n",
    "if ckpt_manager.latest_checkpoint:\n",
    "    ckpt.restore(ckpt_manager.latest_checkpoint)\n",
    "    print('Latest checkpoint restored!!')\n"
   ]
  },
  {
   "cell_type": "code",
   "execution_count": 5,
   "metadata": {},
   "outputs": [
    {
     "name": "stdout",
     "output_type": "stream",
     "text": [
      "(1113, 43, 132)\n",
      "(1113, 43)\n"
     ]
    }
   ],
   "source": [
    "dataset = np.load('../data/isketcher/dataset.npz')\n",
    "x_test, y_test = dataset['x_test'], dataset['y_test']\n",
    "print(x_test.shape)\n",
    "print(y_test.shape)\n"
   ]
  },
  {
   "cell_type": "code",
   "execution_count": 6,
   "metadata": {},
   "outputs": [
    {
     "name": "stdout",
     "output_type": "stream",
     "text": [
      "['none', 'airplane', 'apple', 'hot air balloon', 'banana', 'basket', 'bee', 'bench', 'bicycle', 'bird', 'wine bottle', 'bucket', 'bus', 'butterfly', 'car', 'cat', 'chair', 'cloud', 'cow', 'cup', 'dog', 'duck', 'fence', 'flower', 'grapes', 'grass', 'horse', 'house', 'moon', 'mountain', 'face', 'pig', 'rabbit', 'sheep', 'star', 'streetlight', 'sun', 'table', 'tree', 'truck', 'umbrella']\n",
      "41\n",
      "{'none': 0, 'airplane': 1, 'apple': 2, 'hot air balloon': 3, 'banana': 4, 'basket': 5, 'bee': 6, 'bench': 7, 'bicycle': 8, 'bird': 9, 'wine bottle': 10, 'bucket': 11, 'bus': 12, 'butterfly': 13, 'car': 14, 'cat': 15, 'chair': 16, 'cloud': 17, 'cow': 18, 'cup': 19, 'dog': 20, 'duck': 21, 'fence': 22, 'flower': 23, 'grapes': 24, 'grass': 25, 'horse': 26, 'house': 27, 'moon': 28, 'mountain': 29, 'face': 30, 'pig': 31, 'rabbit': 32, 'sheep': 33, 'star': 34, 'streetlight': 35, 'sun': 36, 'table': 37, 'tree': 38, 'truck': 39, 'umbrella': 40}\n"
     ]
    }
   ],
   "source": [
    "# class label\n",
    "df = pd.read_csv('../outputs/sketchyscene_quickdraw.csv')\n",
    "df = df.dropna(subset=['quickdraw_label'])\n",
    "class_names = ['none']\n",
    "for row in df.itertuples():\n",
    "    class_names.append(row.quickdraw_label)\n",
    "class_to_num = dict(zip(class_names, range(0, len(class_names))))\n",
    "\n",
    "print(class_names)\n",
    "print(len(class_names))\n",
    "print(class_to_num)\n"
   ]
  },
  {
   "cell_type": "code",
   "execution_count": 7,
   "metadata": {},
   "outputs": [],
   "source": [
    "def from_yolo(x, y, w, h):\n",
    "    x0 = x - (w / 2)\n",
    "    y0 = y - (h / 2)\n",
    "    x1 = x + (w / 2)\n",
    "    y1 = y + (h / 2)\n",
    "    return x0, y0, x1, y1"
   ]
  },
  {
   "cell_type": "code",
   "execution_count": 8,
   "metadata": {},
   "outputs": [
    {
     "name": "stdout",
     "output_type": "stream",
     "text": [
      "(43, 132)\n",
      "---- 0 -------\n",
      "real label:  sun\n",
      "real position:  [350.       80.      200.00002 200.00002]\n",
      "---- 1 -------\n",
      "real label:  cloud\n",
      "pred label:  cloud\n",
      "real position:  [455.       75.      270.      109.99999]\n",
      "pred position:  [354.2099  212.45912 228.36958 167.44142]\n",
      "---- 2 -------\n",
      "real label:  tree\n",
      "pred label:  cloud\n",
      "real position:  [ 70.      310.      400.00003 460.     ]\n",
      "pred position:  [354.90622 316.22278 201.37831 155.87051]\n",
      "---- 3 -------\n",
      "real label:  chair\n",
      "pred label:  tree\n",
      "real position:  [260.      439.99997 240.      219.99998]\n",
      "pred position:  [367.9585  366.055   231.51997 232.84697]\n",
      "---- 4 -------\n",
      "real label:  chair\n",
      "pred label:  grass\n",
      "real position:  [270. 575. 340. 230.]\n",
      "pred position:  [349.73477 519.4402  144.2767  146.97705]\n",
      "---- 5 -------\n",
      "real label:  table\n",
      "pred label:  face\n",
      "real position:  [415.      484.99997 290.      210.     ]\n",
      "pred position:  [348.1123  503.1214  146.47087 150.45212]\n",
      "---- 6 -------\n",
      "real label:  tree\n",
      "pred label:  face\n",
      "real position:  [635.      244.99998 250.      410.     ]\n",
      "pred position:  [350.9754  512.53613 152.822   157.8121 ]\n",
      "---- 7 -------\n",
      "real label:  face\n",
      "pred label:  grass\n",
      "real position:  [610.      484.99997 280.      390.     ]\n",
      "pred position:  [363.43033 448.2475  154.03609 151.72128]\n",
      "---- 8 -------\n",
      "real label:  face\n",
      "pred label:  face\n",
      "real position:  [240. 515. 140. 250.]\n",
      "pred position:  [355.69418 487.02228 143.33586 142.69038]\n",
      "---- 9 -------\n",
      "real label:  dog\n",
      "pred label:  face\n",
      "real position:  [455.      600.      210.      200.00002]\n",
      "pred position:  [356.57336 508.91956 136.45929 140.27782]\n",
      "---- 10 -------\n",
      "real label:  cat\n",
      "pred label:  face\n",
      "real position:  [ 80. 645. 160. 150.]\n",
      "pred position:  [355.0463  489.69144 140.99736 138.70734]\n"
     ]
    }
   ],
   "source": [
    "# test\n",
    "\n",
    "scene_index = 1\n",
    "print(x_test[scene_index].shape)\n",
    "\n",
    "print(\"----\", 0, \"-------\")\n",
    "print(\"real label: \", class_names[int(y_test[scene_index, 0])])\n",
    "print(\"real position: \", x_test[scene_index, 0, -4:] * 750)\n",
    "\n",
    "for i in range(1, len(x_test[scene_index])):\n",
    "\n",
    "    c_out, p_out, _ = interactive_sketcher(\n",
    "        x_test[scene_index, :i], training=False, look_ahead_mask=None)\n",
    "\n",
    "    c_real_id = int(y_test[scene_index, i])\n",
    "    if c_real_id == 0:\n",
    "        break\n",
    "    p_real = x_test[scene_index, i, -4:]\n",
    "\n",
    "    c_pred = c_out[0, -1, :]  # 最後のスケッチを取得\n",
    "    c_pred_id = tf.argmax(c_pred, axis=-1)\n",
    "    p_pred = p_out[0, -1, :]  # 最後のスケッチを取得\n",
    "\n",
    "    print(\"----\", i, \"-------\")\n",
    "    print(\"real label: \", class_names[c_real_id])\n",
    "    print(\"pred label: \", class_names[c_pred_id])\n",
    "\n",
    "    print(\"real position: \", p_real * 750)\n",
    "    print(\"pred position: \", p_pred.numpy() * 750)\n"
   ]
  },
  {
   "cell_type": "code",
   "execution_count": 12,
   "metadata": {},
   "outputs": [
    {
     "data": {
      "text/plain": [
       "<matplotlib.image.AxesImage at 0x7fd6d01d0cf8>"
      ]
     },
     "execution_count": 12,
     "metadata": {},
     "output_type": "execute_result"
    },
    {
     "data": {
      "image/png": "[encoded data removed]",
      "text/plain": [
       "<Figure size 1440x1440 with 2 Axes>"
      ]
     },
     "metadata": {
      "needs_background": "light"
     },
     "output_type": "display_data"
    }
   ],
   "source": [
    "# draw canvas\n",
    "\n",
    "from PIL import Image, ImageDraw, ImageFont\n",
    "import matplotlib.pyplot as plt\n",
    "\n",
    "canvas = Image.new('RGB', (750, 750), (255, 255, 255))\n",
    "\n",
    "scene_index = 10\n",
    "pred_index = 3\n",
    "\n",
    "draw = ImageDraw.Draw(canvas)\n",
    "r = 5\n",
    "font = ImageFont.truetype(\"/usr/share/fonts/truetype/ubuntu/Ubuntu-R.ttf\", size=20)\n",
    "\n",
    "for i in range(pred_index):\n",
    "    label = class_names[int(y_test[scene_index, i])]\n",
    "    x, y, w, h = x_test[scene_index, i, -4:] * 750\n",
    "    x0, y0, x1, y1 = from_yolo(x, y, w, h)\n",
    "    draw.rectangle((x0, y0, x1, y1), outline=(0, 0, 0))\n",
    "    draw.text((x, y), label, fill='black', font=font)\n",
    "\n",
    "# predict\n",
    "c_out, p_out, _ = interactive_sketcher(\n",
    "    x_test[scene_index, :pred_index], training=False, look_ahead_mask=None)\n",
    "\n",
    "c_pred = c_out[0, -1, :]  # 最後のスケッチを取得\n",
    "c_pred_id = tf.argmax(c_pred, axis=-1)\n",
    "x, y, w, h = p_out[0, -1, :] * 750  # 最後のスケッチを取得\n",
    "x0, y0, x1, y1 = from_yolo(x, y, w, h)\n",
    "\n",
    "next_canvas = canvas.copy()\n",
    "next_draw = ImageDraw.Draw(next_canvas)\n",
    "next_draw.rectangle((x0, y0, x1, y1), outline=(255, 0, 0))\n",
    "next_draw.text((x, y), class_names[c_pred_id], fill=(255, 0, 0), font=font)\n",
    "\n",
    "# actual\n",
    "xp, yp, wp, hp = x_test[scene_index, pred_index, -4:] * 750\n",
    "x0p, y0p, x1p, y1p = from_yolo(xp, yp, wp, hp)\n",
    "next_draw.rectangle((x0p, y0p, x1p, y1p), outline=(0, 255, 0))\n",
    "next_draw.text((xp, yp), class_names[int(y_test[scene_index, pred_index])], fill=(0, 255, 0), font=font)\n",
    "\n",
    "# canvas.save(f'../outputs/canvas_{scene_index}_{pred_index}.png')\n",
    "# next_canvas.save(f'../outputs/next_canvas_{scene_index}_{pred_index}.png')\n",
    "plt.figure(figsize=(20, 20))\n",
    "plt.subplot(121).imshow(canvas)\n",
    "plt.subplot(122).imshow(next_canvas)"
   ]
  },
  {
   "cell_type": "code",
   "execution_count": null,
   "metadata": {},
   "outputs": [],
   "source": []
  }
 ],
 "metadata": {
  "interpreter": {
   "hash": "45ddb2f520d5841844bae62ac6ba90fc4ad0236a720fe6a2974c193e3d0c3fbd"
  },
  "kernelspec": {
   "display_name": "Python 3.6.13 64-bit ('i-sketcher': conda)",
   "language": "python",
   "name": "python3"
  },
  "language_info": {
   "codemirror_mode": {
    "name": "ipython",
    "version": 3
   },
   "file_extension": ".py",
   "mimetype": "text/x-python",
   "name": "python",
   "nbconvert_exporter": "python",
   "pygments_lexer": "ipython3",
   "version": "3.6.13"
  },
  "orig_nbformat": 4
 },
 "nbformat": 4,
 "nbformat_minor": 2
}
