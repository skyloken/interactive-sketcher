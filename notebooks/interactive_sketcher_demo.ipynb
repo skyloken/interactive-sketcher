{
 "cells": [
  {
   "cell_type": "code",
   "execution_count": 1,
   "metadata": {},
   "outputs": [],
   "source": [
    "import sys\n",
    "\n",
    "sys.path.append(\"../sketchformer\")\n",
    "sys.path.append(\"../src\")\n"
   ]
  },
  {
   "cell_type": "code",
   "execution_count": 2,
   "metadata": {},
   "outputs": [],
   "source": [
    "from isketcher import InteractiveSketcher\n",
    "import tensorflow as tf\n",
    "import numpy as np\n",
    "import pandas as pd\n"
   ]
  },
  {
   "cell_type": "code",
   "execution_count": 3,
   "metadata": {},
   "outputs": [],
   "source": [
    "num_layers = 6\n",
    "d_model = 512\n",
    "dff = 2048\n",
    "num_heads = 8\n",
    "dropout_rate = 0.1\n",
    "target_object_num = 41\n"
   ]
  },
  {
   "cell_type": "code",
   "execution_count": 4,
   "metadata": {},
   "outputs": [
    {
     "name": "stdout",
     "output_type": "stream",
     "text": [
      "Latest checkpoint restored!!\n"
     ]
    }
   ],
   "source": [
    "# create model\n",
    "\n",
    "interactive_sketcher = InteractiveSketcher(\n",
    "    num_layers=num_layers, d_model=d_model, num_heads=num_heads, dff=dff,\n",
    "    object_num=target_object_num, rate=dropout_rate)\n",
    "\n",
    "# restore model\n",
    "checkpoint_path = \"../models/isketcher/model_12/checkpoints_3000/\"\n",
    "# checkpoint_path = \"../src/checkpoints/\"\n",
    "\n",
    "ckpt = tf.train.Checkpoint(epoch=tf.Variable(1),\n",
    "                           transformer=interactive_sketcher)\n",
    "\n",
    "ckpt_manager = tf.train.CheckpointManager(\n",
    "    ckpt, checkpoint_path, max_to_keep=5)\n",
    "\n",
    "if ckpt_manager.latest_checkpoint:\n",
    "    ckpt.restore(ckpt_manager.latest_checkpoint)\n",
    "    print('Latest checkpoint restored!!')\n"
   ]
  },
  {
   "cell_type": "code",
   "execution_count": 5,
   "metadata": {},
   "outputs": [
    {
     "name": "stdout",
     "output_type": "stream",
     "text": [
      "(1113, 43, 132)\n",
      "(1113, 43)\n"
     ]
    }
   ],
   "source": [
    "dataset = np.load('../data/isketcher/dataset.npz')\n",
    "x_test, y_test = dataset['x_test'], dataset['y_test']\n",
    "print(x_test.shape)\n",
    "print(y_test.shape)\n"
   ]
  },
  {
   "cell_type": "code",
   "execution_count": 6,
   "metadata": {},
   "outputs": [
    {
     "name": "stdout",
     "output_type": "stream",
     "text": [
      "['none', 'airplane', 'apple', 'hot air balloon', 'banana', 'basket', 'bee', 'bench', 'bicycle', 'bird', 'wine bottle', 'bucket', 'bus', 'butterfly', 'car', 'cat', 'chair', 'cloud', 'cow', 'cup', 'dog', 'duck', 'fence', 'flower', 'grapes', 'grass', 'horse', 'house', 'moon', 'mountain', 'face', 'pig', 'rabbit', 'sheep', 'star', 'streetlight', 'sun', 'table', 'tree', 'truck', 'umbrella']\n",
      "41\n",
      "{'none': 0, 'airplane': 1, 'apple': 2, 'hot air balloon': 3, 'banana': 4, 'basket': 5, 'bee': 6, 'bench': 7, 'bicycle': 8, 'bird': 9, 'wine bottle': 10, 'bucket': 11, 'bus': 12, 'butterfly': 13, 'car': 14, 'cat': 15, 'chair': 16, 'cloud': 17, 'cow': 18, 'cup': 19, 'dog': 20, 'duck': 21, 'fence': 22, 'flower': 23, 'grapes': 24, 'grass': 25, 'horse': 26, 'house': 27, 'moon': 28, 'mountain': 29, 'face': 30, 'pig': 31, 'rabbit': 32, 'sheep': 33, 'star': 34, 'streetlight': 35, 'sun': 36, 'table': 37, 'tree': 38, 'truck': 39, 'umbrella': 40}\n"
     ]
    }
   ],
   "source": [
    "# class label\n",
    "df = pd.read_csv('../outputs/sketchyscene_quickdraw.csv')\n",
    "df = df.dropna(subset=['quickdraw_label'])\n",
    "class_names = ['none']\n",
    "for row in df.itertuples():\n",
    "    class_names.append(row.quickdraw_label)\n",
    "class_to_num = dict(zip(class_names, range(0, len(class_names))))\n",
    "\n",
    "print(class_names)\n",
    "print(len(class_names))\n",
    "print(class_to_num)\n"
   ]
  },
  {
   "cell_type": "code",
   "execution_count": 7,
   "metadata": {},
   "outputs": [],
   "source": [
    "def from_yolo(x, y, w, h):\n",
    "    x0 = x - (w / 2)\n",
    "    y0 = y - (h / 2)\n",
    "    x1 = x + (w / 2)\n",
    "    y1 = y + (h / 2)\n",
    "    return x0, y0, x1, y1"
   ]
  },
  {
   "cell_type": "code",
   "execution_count": 8,
   "metadata": {},
   "outputs": [
    {
     "name": "stdout",
     "output_type": "stream",
     "text": [
      "(43, 132)\n",
      "---- 0 -------\n",
      "real label:  cloud\n",
      "real position:  [370. 115. 120.  70.]\n",
      "---- 1 -------\n",
      "real label:  sun\n",
      "pred label:  cloud\n",
      "real position:  [660.       75.      100.00001  90.     ]\n",
      "pred position:  [501.2522    70.999466 105.109726  74.60344 ]\n",
      "---- 2 -------\n",
      "real label:  cloud\n",
      "pred label:  tree\n",
      "real position:  [100.00001 105.      140.       70.     ]\n",
      "pred position:  [398.51752 453.01553 128.31944 193.37813]\n",
      "---- 3 -------\n",
      "real label:  tree\n",
      "pred label:  grass\n",
      "real position:  [ 25.000002 475.       109.99999  130.      ]\n",
      "pred position:  [131.37427 618.8205  153.08348 164.9212 ]\n",
      "---- 4 -------\n",
      "real label:  mountain\n",
      "pred label:  tree\n",
      "real position:  [390. 300. 760. 180.]\n",
      "pred position:  [434.72534 407.03336 136.64795 159.58406]\n",
      "---- 5 -------\n",
      "real label:  cloud\n",
      "pred label:  tree\n",
      "real position:  [705. 115. 130.  70.]\n",
      "pred position:  [510.42508 433.89362 154.55302 162.12146]\n",
      "---- 6 -------\n",
      "real label:  house\n",
      "pred label:  cloud\n",
      "real position:  [100.00001 510.      120.      219.99998]\n",
      "pred position:  [279.24774 341.29517 135.64273 138.57407]\n",
      "---- 7 -------\n",
      "real label:  tree\n",
      "pred label:  tree\n",
      "real position:  [165.      535.      109.99999 150.     ]\n",
      "pred position:  [259.81412 415.61572 107.33731 154.8658 ]\n",
      "---- 8 -------\n",
      "real label:  tree\n",
      "pred label:  tree\n",
      "real position:  [580.      370.      200.00002 200.00002]\n",
      "pred position:  [568.6199  450.5176   97.06552 112.02264]\n",
      "---- 9 -------\n",
      "real label:  house\n",
      "pred label:  tree\n",
      "real position:  [430. 525. 140. 190.]\n",
      "pred position:  [447.69797 523.06885 115.56631 141.98196]\n",
      "---- 10 -------\n",
      "real label:  grass\n",
      "pred label:  tree\n",
      "real position:  [575.       465.        70.        50.000004]\n",
      "pred position:  [297.46362 486.02914 103.602   136.27155]\n",
      "---- 11 -------\n",
      "real label:  house\n",
      "pred label:  bus\n",
      "real position:  [685. 480. 170. 280.]\n",
      "pred position:  [174.13324  539.06226  141.30038   62.962494]\n",
      "---- 12 -------\n",
      "real label:  tree\n",
      "pred label:  house\n",
      "real position:  [505.      535.      109.99999 170.     ]\n",
      "pred position:  [240.55597 440.89133  85.05776 100.80242]\n",
      "---- 13 -------\n",
      "real label:  truck\n",
      "pred label:  tree\n",
      "real position:  [150. 680. 140. 120.]\n",
      "pred position:  [473.19778 468.8446   87.01589  95.43511]\n",
      "---- 14 -------\n",
      "real label:  truck\n",
      "pred label:  car\n",
      "real position:  [535.      635.      130.      109.99999]\n",
      "pred position:  [586.96576 576.82764 143.17694 116.61926]\n",
      "---- 15 -------\n",
      "real label:  tree\n",
      "pred label:  car\n",
      "real position:  [740. 545. 120. 150.]\n",
      "pred position:  [180.89609 564.8513  165.00586 126.37316]\n",
      "---- 16 -------\n",
      "real label:  tree\n",
      "pred label:  tree\n",
      "real position:  [320. 465. 160. 150.]\n",
      "pred position:  [652.7826  437.6033   89.16969 150.77887]\n",
      "---- 17 -------\n",
      "real label:  grass\n",
      "pred label:  tree\n",
      "real position:  [310.       535.        80.        50.000004]\n",
      "pred position:  [521.6295  408.15164 104.552   148.62823]\n",
      "---- 18 -------\n",
      "real label:  grass\n",
      "pred label:  cow\n",
      "real position:  [190.       595.        60.        50.000004]\n",
      "pred position:  [458.6542  491.324   166.59334 130.44252]\n",
      "---- 19 -------\n",
      "real label:  grass\n",
      "pred label:  tree\n",
      "real position:  [715.       605.        70.        50.000004]\n",
      "pred position:  [ 99.631165 499.88803  106.59893   87.60364 ]\n",
      "---- 20 -------\n",
      "real label:  grass\n",
      "pred label:  tree\n",
      "real position:  [ 15.       585.        50.000004  50.000004]\n",
      "pred position:  [115.10588  482.46924   80.54756  100.706635]\n"
     ]
    }
   ],
   "source": [
    "# test\n",
    "\n",
    "scene_index = 10\n",
    "print(x_test[scene_index].shape)\n",
    "\n",
    "print(\"----\", 0, \"-------\")\n",
    "print(\"real label: \", class_names[int(y_test[scene_index, 0])])\n",
    "print(\"real position: \", x_test[scene_index, 0, -4:] * 750)\n",
    "\n",
    "for i in range(1, len(x_test[scene_index])):\n",
    "\n",
    "    c_out, p_out, _ = interactive_sketcher(\n",
    "        x_test[scene_index, :i], training=False, look_ahead_mask=None)\n",
    "\n",
    "    c_real_id = int(y_test[scene_index, i])\n",
    "    if c_real_id == 0:\n",
    "        break\n",
    "    p_real = x_test[scene_index, i, -4:]\n",
    "\n",
    "    c_pred = c_out[0, -1, :]  # 最後のスケッチを取得\n",
    "    c_pred_id = tf.argmax(c_pred, axis=-1)\n",
    "    p_pred = p_out[0, -1, :]  # 最後のスケッチを取得\n",
    "\n",
    "    print(\"----\", i, \"-------\")\n",
    "    print(\"real label: \", class_names[c_real_id])\n",
    "    print(\"pred label: \", class_names[c_pred_id])\n",
    "\n",
    "    print(\"real position: \", p_real * 750)\n",
    "    print(\"pred position: \", p_pred.numpy() * 750)\n"
   ]
  },
  {
   "cell_type": "code",
   "execution_count": 56,
   "metadata": {},
   "outputs": [
    {
     "data": {
      "text/plain": [
       "<matplotlib.image.AxesImage at 0x7fb978f14198>"
      ]
     },
     "execution_count": 56,
     "metadata": {},
     "output_type": "execute_result"
    },
    {
     "data": {
      "image/png": "[encoded data removed]",
      "text/plain": [
       "<Figure size 1080x1080 with 1 Axes>"
      ]
     },
     "metadata": {
      "needs_background": "light"
     },
     "output_type": "display_data"
    }
   ],
   "source": [
    "# draw canvas\n",
    "\n",
    "from PIL import Image, ImageDraw, ImageFont\n",
    "import matplotlib.pyplot as plt\n",
    "\n",
    "m = 50\n",
    "tm = 20\n",
    "canvas = Image.new('RGB', (750 + m * 2, 750 + m * 2), (255, 255, 255))\n",
    "\n",
    "scene_index = 150\n",
    "pred_index = 10\n",
    "\n",
    "draw = ImageDraw.Draw(canvas)\n",
    "font = ImageFont.truetype(\"/usr/share/fonts/truetype/ubuntu/Ubuntu-R.ttf\", size=20)\n",
    "\n",
    "for i in range(pred_index):\n",
    "    label = class_names[int(y_test[scene_index, i])]\n",
    "    x, y, w, h = x_test[scene_index, i, -4:] * 750\n",
    "    x, y = x + m, y + m\n",
    "    x0, y0, x1, y1 = from_yolo(x, y, w, h)\n",
    "    draw.rectangle((x0, y0, x1, y1), outline=(0, 0, 0))\n",
    "    # if x > 700:\n",
    "    #     x -= 50\n",
    "    # elif y > 700:\n",
    "    #     y -= 50\n",
    "    draw.text((x - tm, y - tm), label, fill='black', font=font)\n",
    "\n",
    "# predict\n",
    "c_out, p_out, _ = interactive_sketcher(\n",
    "    x_test[scene_index, :pred_index], training=False, look_ahead_mask=None)\n",
    "\n",
    "c_pred = c_out[0, -1, :]  # 最後のスケッチを取得\n",
    "c_pred_id = tf.argmax(c_pred, axis=-1)\n",
    "x, y, w, h = p_out[0, -1, :] * 750  # 最後のスケッチを取得\n",
    "x, y = x + m, y + m\n",
    "x0, y0, x1, y1 = from_yolo(x, y, w, h)\n",
    "\n",
    "next_canvas = canvas.copy()\n",
    "next_draw = ImageDraw.Draw(next_canvas)\n",
    "next_draw.rectangle((x0, y0, x1, y1), outline=(255, 0, 0))\n",
    "next_draw.text((x - tm, y - tm), class_names[c_pred_id], fill=(255, 0, 0), font=font)\n",
    "\n",
    "# actual\n",
    "xp, yp, wp, hp = x_test[scene_index, pred_index, -4:] * 750\n",
    "xp, yp = xp + m, yp + m\n",
    "x0p, y0p, x1p, y1p = from_yolo(xp, yp, wp, hp)\n",
    "next_draw.rectangle((x0p, y0p, x1p, y1p), outline=(0, 0, 255))\n",
    "next_draw.text((xp - tm, yp - tm), class_names[int(y_test[scene_index, pred_index])], fill=(0, 0, 255), font=font)\n",
    "\n",
    "# canvas.save(f'../outputs/canvas_{scene_index}_{pred_index}.png')\n",
    "next_canvas.save(f'../outputs/temp/next_canvas_{scene_index}_{pred_index}.png')\n",
    "plt.figure(figsize=(15, 15))\n",
    "# plt.subplot(121).imshow(canvas)\n",
    "# plt.subplot(122).imshow(next_canvas)\n",
    "plt.imshow(next_canvas)"
   ]
  },
  {
   "cell_type": "code",
   "execution_count": null,
   "metadata": {},
   "outputs": [],
   "source": []
  }
 ],
 "metadata": {
  "interpreter": {
   "hash": "45ddb2f520d5841844bae62ac6ba90fc4ad0236a720fe6a2974c193e3d0c3fbd"
  },
  "kernelspec": {
   "display_name": "Python 3.6.13 64-bit ('i-sketcher': conda)",
   "language": "python",
   "name": "python3"
  },
  "language_info": {
   "codemirror_mode": {
    "name": "ipython",
    "version": 3
   },
   "file_extension": ".py",
   "mimetype": "text/x-python",
   "name": "python",
   "nbconvert_exporter": "python",
   "pygments_lexer": "ipython3",
   "version": "3.6.13"
  },
  "orig_nbformat": 4
 },
 "nbformat": 4,
 "nbformat_minor": 2
}
