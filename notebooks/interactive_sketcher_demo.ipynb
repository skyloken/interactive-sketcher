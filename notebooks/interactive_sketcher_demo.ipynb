{
 "cells": [
  {
   "cell_type": "code",
   "execution_count": 1,
   "metadata": {},
   "outputs": [],
   "source": [
    "import sys\n",
    "\n",
    "sys.path.append(\"../sketchformer\")\n",
    "sys.path.append(\"../src\")\n"
   ]
  },
  {
   "cell_type": "code",
   "execution_count": 2,
   "metadata": {},
   "outputs": [],
   "source": [
    "from isketcher import InteractiveSketcher\n",
    "import tensorflow as tf\n",
    "import numpy as np\n",
    "import pandas as pd\n"
   ]
  },
  {
   "cell_type": "code",
   "execution_count": 3,
   "metadata": {},
   "outputs": [],
   "source": [
    "num_layers = 6\n",
    "d_model = 512\n",
    "dff = 2048\n",
    "num_heads = 8\n",
    "dropout_rate = 0.1\n",
    "target_object_num = 41\n"
   ]
  },
  {
   "cell_type": "code",
   "execution_count": 4,
   "metadata": {},
   "outputs": [
    {
     "name": "stdout",
     "output_type": "stream",
     "text": [
      "Latest checkpoint restored!!\n"
     ]
    }
   ],
   "source": [
    "# create model\n",
    "\n",
    "interactive_sketcher = InteractiveSketcher(\n",
    "    num_layers=num_layers, d_model=d_model, num_heads=num_heads, dff=dff,\n",
    "    object_num=target_object_num, rate=dropout_rate)\n",
    "\n",
    "# restore model\n",
    "checkpoint_path = \"../models/model_12/checkpoints/\"\n",
    "# checkpoint_path = \"../src/checkpoints/\"\n",
    "\n",
    "ckpt = tf.train.Checkpoint(epoch=tf.Variable(1),\n",
    "                           transformer=interactive_sketcher)\n",
    "\n",
    "ckpt_manager = tf.train.CheckpointManager(\n",
    "    ckpt, checkpoint_path, max_to_keep=5)\n",
    "\n",
    "if ckpt_manager.latest_checkpoint:\n",
    "    ckpt.restore(ckpt_manager.latest_checkpoint)\n",
    "    print('Latest checkpoint restored!!')\n"
   ]
  },
  {
   "cell_type": "code",
   "execution_count": 5,
   "metadata": {},
   "outputs": [
    {
     "name": "stdout",
     "output_type": "stream",
     "text": [
      "(5617, 92, 132)\n",
      "(5617, 92)\n"
     ]
    }
   ],
   "source": [
    "dataset = np.load('../data/isketcher/dataset.npz')\n",
    "x_test, y_test = dataset['x_train'], dataset['y_train']\n",
    "print(x_test.shape)\n",
    "print(y_test.shape)\n"
   ]
  },
  {
   "cell_type": "code",
   "execution_count": 6,
   "metadata": {},
   "outputs": [
    {
     "name": "stdout",
     "output_type": "stream",
     "text": [
      "['none', 'airplane', 'apple', 'hot air balloon', 'banana', 'basket', 'bee', 'bench', 'bicycle', 'bird', 'wine bottle', 'bucket', 'bus', 'butterfly', 'car', 'cat', 'chair', 'cloud', 'cow', 'cup', 'dog', 'duck', 'fence', 'flower', 'grapes', 'grass', 'horse', 'house', 'moon', 'mountain', 'face', 'pig', 'rabbit', 'sheep', 'star', 'streetlight', 'sun', 'table', 'tree', 'truck', 'umbrella']\n",
      "41\n",
      "{'none': 0, 'airplane': 1, 'apple': 2, 'hot air balloon': 3, 'banana': 4, 'basket': 5, 'bee': 6, 'bench': 7, 'bicycle': 8, 'bird': 9, 'wine bottle': 10, 'bucket': 11, 'bus': 12, 'butterfly': 13, 'car': 14, 'cat': 15, 'chair': 16, 'cloud': 17, 'cow': 18, 'cup': 19, 'dog': 20, 'duck': 21, 'fence': 22, 'flower': 23, 'grapes': 24, 'grass': 25, 'horse': 26, 'house': 27, 'moon': 28, 'mountain': 29, 'face': 30, 'pig': 31, 'rabbit': 32, 'sheep': 33, 'star': 34, 'streetlight': 35, 'sun': 36, 'table': 37, 'tree': 38, 'truck': 39, 'umbrella': 40}\n"
     ]
    }
   ],
   "source": [
    "# class label\n",
    "df = pd.read_csv('../outputs/sketchyscene_quickdraw.csv')\n",
    "df = df.dropna(subset=['quickdraw_label'])\n",
    "class_names = ['none']\n",
    "for row in df.itertuples():\n",
    "    class_names.append(row.quickdraw_label)\n",
    "class_to_num = dict(zip(class_names, range(0, len(class_names))))\n",
    "\n",
    "print(class_names)\n",
    "print(len(class_names))\n",
    "print(class_to_num)\n"
   ]
  },
  {
   "cell_type": "code",
   "execution_count": 7,
   "metadata": {},
   "outputs": [],
   "source": [
    "def from_yolo(x, y, w, h):\n",
    "    x0 = x - (w / 2)\n",
    "    y0 = y - (h / 2)\n",
    "    x1 = x + (w / 2)\n",
    "    y1 = y + (h / 2)\n",
    "    return x0, y0, x1, y1"
   ]
  },
  {
   "cell_type": "code",
   "execution_count": 8,
   "metadata": {},
   "outputs": [
    {
     "name": "stdout",
     "output_type": "stream",
     "text": [
      "(92, 132)\n",
      "---- 0 -------\n",
      "real label:  house\n",
      "real position:  [630.      255.      200.00002 170.     ]\n",
      "---- 1 -------\n",
      "real label:  sheep\n",
      "pred label:  house\n",
      "real position:  [375. 385. 150. 130.]\n",
      "pred position:  [185.06818 255.33173 182.3913  202.86499]\n",
      "---- 2 -------\n",
      "real label:  sheep\n",
      "pred label:  tree\n",
      "real position:  [255.      565.      190.      109.99999]\n",
      "pred position:  [197.50775 433.3944  140.30937 168.38939]\n",
      "---- 3 -------\n",
      "real label:  sheep\n",
      "pred label:  sheep\n",
      "real position:  [545. 525. 190. 130.]\n",
      "pred position:  [247.6386  522.4646  146.51045 125.29061]\n",
      "---- 4 -------\n",
      "real label:  sheep\n",
      "pred label:  tree\n",
      "real position:  [160.      415.      100.00001 130.     ]\n",
      "pred position:  [113.10025 301.08902 163.99034 202.67131]\n",
      "---- 5 -------\n",
      "real label:  sun\n",
      "pred label:  tree\n",
      "real position:  [475. 130. 130. 120.]\n",
      "pred position:  [273.09546 388.37433 177.02155 169.71028]\n",
      "---- 6 -------\n",
      "real label:  cloud\n",
      "pred label:  cow\n",
      "real position:  [150. 205. 180.  90.]\n",
      "pred position:  [389.5039  332.79282 202.05159 176.11954]\n",
      "---- 7 -------\n",
      "real label:  cloud\n",
      "pred label:  cloud\n",
      "real position:  [420.      205.      200.00002 109.99999]\n",
      "pred position:  [393.89093 286.7377  156.41734 111.05246]\n",
      "---- 8 -------\n",
      "real label:  grass\n",
      "pred label:  cloud\n",
      "real position:  [670. 365. 140.  10.]\n",
      "pred position:  [241.60887 284.11115 147.65166 132.54327]\n",
      "---- 9 -------\n",
      "real label:  grass\n",
      "pred label:  tree\n",
      "real position:  [560. 660. 180.  20.]\n",
      "pred position:  [494.60077  466.57367   89.94623  126.761475]\n",
      "---- 10 -------\n",
      "real label:  grass\n",
      "pred label:  grass\n",
      "real position:  [ 35. 475. 130.  10.]\n",
      "pred position:  [231.10873 604.20825 138.14717  98.56686]\n",
      "---- 11 -------\n",
      "real label:  grass\n",
      "pred label:  grass\n",
      "real position:  [ 70. 675.  80.  30.]\n",
      "pred position:  [ 83.39988 656.0366  111.97534  91.28115]\n",
      "---- 12 -------\n",
      "real label:  grass\n",
      "pred label:  tree\n",
      "real position:  [300. 685. 160.  10.]\n",
      "pred position:  [214.34448 487.80872  81.63309  91.21632]\n",
      "---- 13 -------\n",
      "real label:  grass\n",
      "pred label:  grass\n",
      "real position:  [ 90.      335.      100.00001  10.     ]\n",
      "pred position:  [147.94795 643.53125 101.14874  76.2451 ]\n",
      "---- 14 -------\n",
      "real label:  flower\n",
      "pred label:  grass\n",
      "real position:  [ 25.000002 645.        70.        50.000004]\n",
      "pred position:  [296.21216 437.30637  77.41178  65.55218]\n",
      "---- 15 -------\n",
      "real label:  flower\n",
      "pred label:  grass\n",
      "real position:  [685.      400.00003  70.       40.     ]\n",
      "pred position:  [559.97565 654.5707  130.8232   80.80549]\n",
      "---- 16 -------\n",
      "real label:  flower\n",
      "pred label:  flower\n",
      "real position:  [ 40. 355.  60.  70.]\n",
      "pred position:  [255.47102  468.0663    62.80122   54.650272]\n",
      "---- 17 -------\n",
      "real label:  grass\n",
      "pred label:  tree\n",
      "real position:  [370.      645.      100.00001  10.     ]\n",
      "pred position:  [106.0379   385.42862   78.77906  124.055954]\n"
     ]
    }
   ],
   "source": [
    "# test\n",
    "\n",
    "scene_index = 10\n",
    "print(x_test[scene_index].shape)\n",
    "\n",
    "print(\"----\", 0, \"-------\")\n",
    "print(\"real label: \", class_names[int(y_test[scene_index, 0])])\n",
    "print(\"real position: \", x_test[scene_index, 0, -4:] * 750)\n",
    "\n",
    "for i in range(1, len(x_test[scene_index])):\n",
    "\n",
    "    c_out, p_out, _ = interactive_sketcher(\n",
    "        x_test[scene_index, :i], training=False, look_ahead_mask=None)\n",
    "\n",
    "    c_real_id = int(y_test[scene_index, i])\n",
    "    if c_real_id == 0:\n",
    "        break\n",
    "    p_real = x_test[scene_index, i, -4:]\n",
    "\n",
    "    c_pred = c_out[0, -1, :]  # 最後のスケッチを取得\n",
    "    c_pred_id = tf.argmax(c_pred, axis=-1)\n",
    "    p_pred = p_out[0, -1, :]  # 最後のスケッチを取得\n",
    "\n",
    "    print(\"----\", i, \"-------\")\n",
    "    print(\"real label: \", class_names[c_real_id])\n",
    "    print(\"pred label: \", class_names[c_pred_id])\n",
    "\n",
    "    print(\"real position: \", p_real * 750)\n",
    "    print(\"pred position: \", p_pred.numpy() * 750)\n"
   ]
  },
  {
   "cell_type": "code",
   "execution_count": 14,
   "metadata": {},
   "outputs": [
    {
     "data": {
      "text/plain": [
       "<matplotlib.image.AxesImage at 0x7f24980e8630>"
      ]
     },
     "execution_count": 14,
     "metadata": {},
     "output_type": "execute_result"
    },
    {
     "data": {
      "image/png": "[encoded data removed]",
      "text/plain": [
       "<Figure size 1440x1440 with 2 Axes>"
      ]
     },
     "metadata": {
      "needs_background": "light"
     },
     "output_type": "display_data"
    }
   ],
   "source": [
    "# draw canvas\n",
    "\n",
    "from PIL import Image, ImageDraw, ImageFont\n",
    "import matplotlib.pyplot as plt\n",
    "\n",
    "canvas = Image.new('RGB', (750, 750), (255, 255, 255))\n",
    "\n",
    "scene_index = 1\n",
    "pred_index = 5\n",
    "\n",
    "draw = ImageDraw.Draw(canvas)\n",
    "r = 5\n",
    "font = ImageFont.truetype(\"/usr/share/fonts/truetype/ubuntu/Ubuntu-R.ttf\", size=20)\n",
    "\n",
    "for i in range(pred_index):\n",
    "    label = class_names[int(y_test[scene_index, i])]\n",
    "    x, y, w, h = x_test[scene_index, i, -4:] * 750\n",
    "    x0, y0, x1, y1 = from_yolo(x, y, w, h)\n",
    "    draw.rectangle((x0, y0, x1, y1), outline=(0, 0, 0))\n",
    "    draw.text((x, y), label, fill='black', font=font)\n",
    "\n",
    "# predict\n",
    "c_out, p_out, _ = interactive_sketcher(\n",
    "    x_test[scene_index, :pred_index], training=False, look_ahead_mask=None)\n",
    "\n",
    "c_pred = c_out[0, -1, :]  # 最後のスケッチを取得\n",
    "c_pred_id = tf.argmax(c_pred, axis=-1)\n",
    "x, y, w, h = p_out[0, -1, :] * 750  # 最後のスケッチを取得\n",
    "x0, y0, x1, y1 = from_yolo(x, y, w, h)\n",
    "\n",
    "next_canvas = canvas.copy()\n",
    "next_draw = ImageDraw.Draw(next_canvas)\n",
    "next_draw.rectangle((x0, y0, x1, y1), outline=(255, 0, 0))\n",
    "next_draw.text((x, y), class_names[c_pred_id], fill=(255, 0, 0), font=font)\n",
    "\n",
    "# actual\n",
    "xp, yp, wp, hp = x_test[scene_index, pred_index, -4:] * 750\n",
    "x0p, y0p, x1p, y1p = from_yolo(xp, yp, wp, hp)\n",
    "next_draw.rectangle((x0p, y0p, x1p, y1p), outline=(0, 255, 0))\n",
    "next_draw.text((xp, yp), class_names[int(y_test[scene_index, pred_index])], fill=(0, 255, 0), font=font)\n",
    "\n",
    "# canvas.save(f'../outputs/canvas_{scene_index}_{pred_index}.png')\n",
    "# next_canvas.save(f'../outputs/next_canvas_{scene_index}_{pred_index}.png')\n",
    "plt.figure(figsize=(20, 20))\n",
    "plt.subplot(121).imshow(canvas)\n",
    "plt.subplot(122).imshow(next_canvas)"
   ]
  },
  {
   "cell_type": "code",
   "execution_count": null,
   "metadata": {},
   "outputs": [],
   "source": []
  }
 ],
 "metadata": {
  "interpreter": {
   "hash": "45ddb2f520d5841844bae62ac6ba90fc4ad0236a720fe6a2974c193e3d0c3fbd"
  },
  "kernelspec": {
   "display_name": "Python 3.6.13 64-bit ('i-sketcher': conda)",
   "language": "python",
   "name": "python3"
  },
  "language_info": {
   "codemirror_mode": {
    "name": "ipython",
    "version": 3
   },
   "file_extension": ".py",
   "mimetype": "text/x-python",
   "name": "python",
   "nbconvert_exporter": "python",
   "pygments_lexer": "ipython3",
   "version": "3.6.13"
  },
  "orig_nbformat": 4
 },
 "nbformat": 4,
 "nbformat_minor": 2
}
