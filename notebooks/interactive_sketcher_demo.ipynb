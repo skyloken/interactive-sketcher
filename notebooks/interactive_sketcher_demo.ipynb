{
 "cells": [
  {
   "cell_type": "code",
   "execution_count": 2,
   "metadata": {},
   "outputs": [],
   "source": [
    "import sys\n",
    "\n",
    "sys.path.append(\"../sketchformer\")\n",
    "sys.path.append(\"../src\")\n"
   ]
  },
  {
   "cell_type": "code",
   "execution_count": 3,
   "metadata": {},
   "outputs": [],
   "source": [
    "from isketcher import InteractiveSketcher\n",
    "import tensorflow as tf\n",
    "import numpy as np\n",
    "import pandas as pd\n"
   ]
  },
  {
   "cell_type": "code",
   "execution_count": 4,
   "metadata": {},
   "outputs": [],
   "source": [
    "num_layers = 8\n",
    "d_model = 64\n",
    "dff = 128\n",
    "num_heads = 4\n",
    "dropout_rate = 0.1\n",
    "target_object_num = 41\n",
    "\n",
    "\n",
    "class CustomSchedule(tf.keras.optimizers.schedules.LearningRateSchedule):\n",
    "    def __init__(self, d_model, warmup_steps=4000):\n",
    "        super(CustomSchedule, self).__init__()\n",
    "\n",
    "        self.d_model = d_model\n",
    "        self.d_model = tf.cast(self.d_model, tf.float32)\n",
    "\n",
    "        self.warmup_steps = warmup_steps\n",
    "\n",
    "    def __call__(self, step):\n",
    "        arg1 = tf.math.rsqrt(step)\n",
    "        arg2 = step * (self.warmup_steps ** -1.5)\n",
    "\n",
    "        return tf.math.rsqrt(self.d_model) * tf.math.minimum(arg1, arg2)\n",
    "\n",
    "\n",
    "learning_rate = CustomSchedule(d_model)\n",
    "optimizer = tf.keras.optimizers.Adam(learning_rate, beta_1=0.9, beta_2=0.98,\n",
    "                                     epsilon=1e-9)\n"
   ]
  },
  {
   "cell_type": "code",
   "execution_count": 5,
   "metadata": {},
   "outputs": [
    {
     "name": "stdout",
     "output_type": "stream",
     "text": [
      "Latest checkpoint restored!!\n"
     ]
    }
   ],
   "source": [
    "# create model\n",
    "\n",
    "interactive_sketcher = InteractiveSketcher(\n",
    "    num_layers=num_layers, d_model=d_model, num_heads=num_heads, dff=dff,\n",
    "    object_num=target_object_num, rate=dropout_rate)\n",
    "\n",
    "# restore model\n",
    "checkpoint_path = \"./models/demo2\"\n",
    "\n",
    "ckpt = tf.train.Checkpoint(epoch=tf.Variable(1),\n",
    "                           transformer=interactive_sketcher,\n",
    "                           optimizer=optimizer)\n",
    "\n",
    "ckpt_manager = tf.train.CheckpointManager(\n",
    "    ckpt, checkpoint_path, max_to_keep=5)\n",
    "\n",
    "if ckpt_manager.latest_checkpoint:\n",
    "    ckpt.restore(ckpt_manager.latest_checkpoint)\n",
    "    print('Latest checkpoint restored!!')\n"
   ]
  },
  {
   "cell_type": "code",
   "execution_count": 6,
   "metadata": {},
   "outputs": [
    {
     "name": "stdout",
     "output_type": "stream",
     "text": [
      "(1113, 43, 132)\n",
      "(1113, 43)\n"
     ]
    }
   ],
   "source": [
    "dataset = np.load('../data/isketcher/dataset.npz')\n",
    "x_test, y_test = dataset['x_test'], dataset['y_test']\n",
    "print(x_test.shape)\n",
    "print(y_test.shape)\n"
   ]
  },
  {
   "cell_type": "code",
   "execution_count": 7,
   "metadata": {},
   "outputs": [
    {
     "name": "stdout",
     "output_type": "stream",
     "text": [
      "['none', 'airplane', 'apple', 'hot air balloon', 'banana', 'basket', 'bee', 'bench', 'bicycle', 'bird', 'wine bottle', 'bucket', 'bus', 'butterfly', 'car', 'cat', 'chair', 'cloud', 'cow', 'cup', 'dog', 'duck', 'fence', 'flower', 'grapes', 'grass', 'horse', 'house', 'moon', 'mountain', 'face', 'pig', 'rabbit', 'sheep', 'star', 'streetlight', 'sun', 'table', 'tree', 'truck', 'umbrella']\n",
      "41\n",
      "{'none': 0, 'airplane': 1, 'apple': 2, 'hot air balloon': 3, 'banana': 4, 'basket': 5, 'bee': 6, 'bench': 7, 'bicycle': 8, 'bird': 9, 'wine bottle': 10, 'bucket': 11, 'bus': 12, 'butterfly': 13, 'car': 14, 'cat': 15, 'chair': 16, 'cloud': 17, 'cow': 18, 'cup': 19, 'dog': 20, 'duck': 21, 'fence': 22, 'flower': 23, 'grapes': 24, 'grass': 25, 'horse': 26, 'house': 27, 'moon': 28, 'mountain': 29, 'face': 30, 'pig': 31, 'rabbit': 32, 'sheep': 33, 'star': 34, 'streetlight': 35, 'sun': 36, 'table': 37, 'tree': 38, 'truck': 39, 'umbrella': 40}\n"
     ]
    }
   ],
   "source": [
    "# class label\n",
    "df = pd.read_csv('../outputs/sketchyscene_quickdraw.csv')\n",
    "df = df.dropna(subset=['quickdraw_label'])\n",
    "class_names = ['none']\n",
    "for row in df.itertuples():\n",
    "    class_names.append(row.quickdraw_label)\n",
    "class_to_num = dict(zip(class_names, range(0, len(class_names))))\n",
    "\n",
    "print(class_names)\n",
    "print(len(class_names))\n",
    "print(class_to_num)\n"
   ]
  },
  {
   "cell_type": "code",
   "execution_count": 8,
   "metadata": {},
   "outputs": [
    {
     "name": "stdout",
     "output_type": "stream",
     "text": [
      "(43, 132)\n",
      "---- 0 -------\n",
      "real label:  sun\n",
      "real position:  [250.      -20.      450.00003 180.     ]\n",
      "---- 1 -------\n",
      "real label:  cloud\n",
      "pred label:  cloud\n",
      "real position:  [320.  20. 590. 130.]\n",
      "pred position:  [238.68571 153.40622 463.82788 322.16864]\n",
      "---- 2 -------\n",
      "real label:  tree\n",
      "pred label:  cloud\n",
      "real position:  [-130.   80.  270.  540.]\n",
      "pred position:  [289.7195  263.48465 465.3022  434.48737]\n",
      "---- 3 -------\n",
      "real label:  chair\n",
      "pred label:  tree\n",
      "real position:  [140. 330. 380. 550.]\n",
      "pred position:  [297.41376 304.80215 449.2894  458.17737]\n",
      "---- 4 -------\n",
      "real label:  chair\n",
      "pred label:  grass\n",
      "real position:  [100.00001 460.      439.99997 690.     ]\n",
      "pred position:  [316.07516 432.8072  430.72562 547.9462 ]\n",
      "---- 5 -------\n",
      "real label:  table\n",
      "pred label:  grass\n",
      "real position:  [270. 380. 560. 590.]\n",
      "pred position:  [320.40802 445.6164  424.60107 552.0774 ]\n",
      "---- 6 -------\n",
      "real label:  tree\n",
      "pred label:  grass\n",
      "real position:  [510.       40.      760.      450.00003]\n",
      "pred position:  [313.1395  435.18292 426.7858  549.18243]\n",
      "---- 7 -------\n",
      "real label:  face\n",
      "pred label:  grass\n",
      "real position:  [470. 290. 750. 680.]\n",
      "pred position:  [310.13568 374.39133 435.3099  507.4523 ]\n",
      "---- 8 -------\n",
      "real label:  face\n",
      "pred label:  face\n",
      "real position:  [170. 390. 310. 640.]\n",
      "pred position:  [297.8915 418.2948 420.9637 538.7338]\n",
      "---- 9 -------\n",
      "real label:  dog\n",
      "pred label:  face\n",
      "real position:  [350. 500. 560. 700.]\n",
      "pred position:  [297.36398 412.04547 421.83768 534.3501 ]\n",
      "---- 10 -------\n",
      "real label:  cat\n",
      "pred label:  grass\n",
      "real position:  [  0. 570. 160. 720.]\n",
      "pred position:  [295.5287  419.48706 422.98328 541.15344]\n"
     ]
    }
   ],
   "source": [
    "# test\n",
    "\n",
    "scene_index = 1\n",
    "print(x_test[scene_index].shape)\n",
    "\n",
    "print(\"----\", 0, \"-------\")\n",
    "print(\"real label: \", class_names[int(y_test[scene_index, 0])])\n",
    "print(\"real position: \", x_test[scene_index, 0, -4:] * 750)\n",
    "\n",
    "for i in range(1, len(x_test[scene_index])):\n",
    "\n",
    "    c_out, p_out, _ = interactive_sketcher(\n",
    "        x_test[scene_index, :i], training=False, look_ahead_mask=None)\n",
    "\n",
    "    c_real_id = int(y_test[scene_index, i])\n",
    "    if c_real_id == 0:\n",
    "        break\n",
    "    p_real = x_test[scene_index, i, -4:]\n",
    "\n",
    "    c_pred = c_out[0, -1, :]  # 最後のスケッチを取得\n",
    "    c_pred_id = tf.argmax(c_pred, axis=-1)\n",
    "    p_pred = p_out[0, -1, :]  # 最後のスケッチを取得\n",
    "\n",
    "    print(\"----\", i, \"-------\")\n",
    "    print(\"real label: \", class_names[c_real_id])\n",
    "    print(\"pred label: \", class_names[c_pred_id])\n",
    "\n",
    "    print(\"real position: \", p_real * 750)\n",
    "    print(\"pred position: \", p_pred.numpy() * 750)\n"
   ]
  },
  {
   "cell_type": "code",
   "execution_count": 14,
   "metadata": {},
   "outputs": [
    {
     "data": {
      "text/plain": [
       "<matplotlib.image.AxesImage at 0x7faa8c22ba58>"
      ]
     },
     "execution_count": 14,
     "metadata": {},
     "output_type": "execute_result"
    },
    {
     "data": {
      "image/png": "[encoded data removed]",
      "text/plain": [
       "<Figure size 1440x1440 with 2 Axes>"
      ]
     },
     "metadata": {
      "needs_background": "light"
     },
     "output_type": "display_data"
    }
   ],
   "source": [
    "# draw canvas\n",
    "\n",
    "from PIL import Image, ImageDraw, ImageFont\n",
    "import matplotlib.pyplot as plt\n",
    "\n",
    "canvas = Image.new('RGB', (750, 750), (255, 255, 255))\n",
    "\n",
    "scene_index = 10\n",
    "pred_index = 4\n",
    "\n",
    "draw = ImageDraw.Draw(canvas)\n",
    "r = 5\n",
    "font = ImageFont.truetype(\"/usr/share/fonts/truetype/ubuntu/Ubuntu-R.ttf\", size=20)\n",
    "\n",
    "for i in range(pred_index):\n",
    "    label = class_names[int(y_test[scene_index, i])]\n",
    "    x0, y0, x1, y1 = x_test[scene_index, i, -4:] * 750\n",
    "    draw.rectangle((x0, y0, x1, y1), outline=(0, 0, 0))\n",
    "    draw.text((x1, y1), label, fill='black', font=font)\n",
    "\n",
    "c_out, p_out, _ = interactive_sketcher(\n",
    "    x_test[scene_index, :pred_index], training=False, look_ahead_mask=None)\n",
    "\n",
    "c_pred = c_out[0, -1, :]  # 最後のスケッチを取得\n",
    "c_pred_id = tf.argmax(c_pred, axis=-1)\n",
    "x0, y0, x1, y1 = p_out[0, -1, :] * 750  # 最後のスケッチを取得\n",
    "\n",
    "next_canvas = canvas.copy()\n",
    "next_draw = ImageDraw.Draw(next_canvas)\n",
    "next_draw.rectangle((x0, y0, x1, y1), outline=(255, 0, 0))\n",
    "next_draw.text((x1, y1), class_names[c_pred_id], fill=(255, 0, 0), font=font)\n",
    "\n",
    "# canvas.save(f'../outputs/canvas_{scene_index}_{pred_index}.png')\n",
    "# next_canvas.save(f'../outputs/next_canvas_{scene_index}_{pred_index}.png')\n",
    "plt.figure(figsize=(20, 20))\n",
    "plt.subplot(121).imshow(canvas)\n",
    "plt.subplot(122).imshow(next_canvas)"
   ]
  },
  {
   "cell_type": "code",
   "execution_count": null,
   "metadata": {},
   "outputs": [],
   "source": []
  }
 ],
 "metadata": {
  "interpreter": {
   "hash": "45ddb2f520d5841844bae62ac6ba90fc4ad0236a720fe6a2974c193e3d0c3fbd"
  },
  "kernelspec": {
   "display_name": "Python 3.6.13 64-bit ('i-sketcher': conda)",
   "language": "python",
   "name": "python3"
  },
  "language_info": {
   "codemirror_mode": {
    "name": "ipython",
    "version": 3
   },
   "file_extension": ".py",
   "mimetype": "text/x-python",
   "name": "python",
   "nbconvert_exporter": "python",
   "pygments_lexer": "ipython3",
   "version": "3.6.13"
  },
  "orig_nbformat": 4
 },
 "nbformat": 4,
 "nbformat_minor": 2
}
