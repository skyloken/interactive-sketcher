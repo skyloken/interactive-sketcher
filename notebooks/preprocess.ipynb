{
 "cells": [
  {
   "cell_type": "code",
   "execution_count": 1,
   "metadata": {},
   "outputs": [],
   "source": [
    "import sys\n",
    "\n",
    "sys.path.append(\"../sketchformer\")\n"
   ]
  },
  {
   "cell_type": "code",
   "execution_count": 2,
   "metadata": {},
   "outputs": [],
   "source": [
    "from tqdm import tqdm\n",
    "import json\n",
    "import pandas as pd\n",
    "import tensorflow as tf\n",
    "import numpy as np\n"
   ]
  },
  {
   "cell_type": "code",
   "execution_count": 3,
   "metadata": {},
   "outputs": [
    {
     "name": "stdout",
     "output_type": "stream",
     "text": [
      "train: 5617, valid: 535, test: 1113\n"
     ]
    }
   ],
   "source": [
    "# load dataset\n",
    "with open('../data/isketcher/train.json', 'r') as f:\n",
    "    train = json.load(f)\n",
    "with open('../data/isketcher/valid.json', 'r') as f:\n",
    "    valid = json.load(f)\n",
    "with open('../data/isketcher/test.json', 'r') as f:\n",
    "    test = json.load(f)\n",
    "\n",
    "print(f\"train: {len(train)}, valid: {len(valid)}, test: {len(test)}\")\n"
   ]
  },
  {
   "cell_type": "code",
   "execution_count": 4,
   "metadata": {},
   "outputs": [
    {
     "name": "stdout",
     "output_type": "stream",
     "text": [
      "40\n",
      "['airplane', 'apple', 'hot air balloon', 'banana', 'basket', 'bee', 'bench', 'bicycle', 'bird', 'wine bottle', 'bucket', 'bus', 'butterfly', 'car', 'cat', 'chair', 'cloud', 'cow', 'cup', 'dog', 'duck', 'fence', 'flower', 'grapes', 'grass', 'horse', 'house', 'moon', 'mountain', 'face', 'pig', 'rabbit', 'sheep', 'star', 'streetlight', 'sun', 'table', 'tree', 'truck', 'umbrella']\n",
      "{'airplane': 0, 'apple': 1, 'hot air balloon': 2, 'banana': 3, 'basket': 4, 'bee': 5, 'bench': 6, 'bicycle': 7, 'bird': 8, 'wine bottle': 9, 'bucket': 10, 'bus': 11, 'butterfly': 12, 'car': 13, 'cat': 14, 'chair': 15, 'cloud': 16, 'cow': 17, 'cup': 18, 'dog': 19, 'duck': 20, 'fence': 21, 'flower': 22, 'grapes': 23, 'grass': 24, 'horse': 25, 'house': 26, 'moon': 27, 'mountain': 28, 'face': 29, 'pig': 30, 'rabbit': 31, 'sheep': 32, 'star': 33, 'streetlight': 34, 'sun': 35, 'table': 36, 'tree': 37, 'truck': 38, 'umbrella': 39}\n"
     ]
    }
   ],
   "source": [
    "# load class label\n",
    "df = pd.read_csv('../outputs/sketchyscene_quickdraw.csv')\n",
    "df = df.dropna(subset=['quickdraw_label'])\n",
    "class_names = []\n",
    "for row in df.itertuples():\n",
    "    class_names.append(row.quickdraw_label)\n",
    "class_to_num = dict(zip(class_names, range(0, len(class_names))))\n",
    "\n",
    "print(len(class_names))\n",
    "print(class_names)\n",
    "print(class_to_num)\n"
   ]
  },
  {
   "cell_type": "code",
   "execution_count": 5,
   "metadata": {},
   "outputs": [
    {
     "name": "stdout",
     "output_type": "stream",
     "text": [
      "[run-experiment] resorting checkpoint if exists\n",
      "[Checkpoint] Restored, step #207536\n"
     ]
    }
   ],
   "source": [
    "# load sketchformer\n",
    "from basic_usage.sketchformer import continuous_embeddings\n",
    "sketchformer = continuous_embeddings.get_pretrained_model()\n"
   ]
  },
  {
   "cell_type": "code",
   "execution_count": 6,
   "metadata": {},
   "outputs": [],
   "source": [
    "# define preprocess\n",
    "def preprocess(dataset):\n",
    "    input_batch = []\n",
    "    label_batch = []\n",
    "    for scene in tqdm(dataset):\n",
    "        sketches = list(map(lambda o: o['sketch'], scene))\n",
    "        sketch_embeddings = sketchformer.get_embeddings(sketches)\n",
    "        input_scene = []\n",
    "        labels = []\n",
    "        for se, obj in zip(sketch_embeddings, scene):\n",
    "            p = [obj['position'][0] / 750, obj['position'][1] / 750]\n",
    "            o = se.numpy().tolist() + p\n",
    "            input_scene.append(o)  # オブジェクトの数が不規則\n",
    "            labels.append(class_to_num[obj['label']])  # convert to num\n",
    "        input_batch.append(input_scene)\n",
    "        label_batch.append(labels)\n",
    "    return tf.ragged.constant(input_batch).to_tensor(0.), tf.ragged.constant(label_batch).to_tensor(0)\n"
   ]
  },
  {
   "cell_type": "code",
   "execution_count": 7,
   "metadata": {},
   "outputs": [
    {
     "name": "stdout",
     "output_type": "stream",
     "text": [
      "Preprocessing train dataset\n"
     ]
    },
    {
     "name": "stderr",
     "output_type": "stream",
     "text": [
      "100%|██████████| 5617/5617 [03:44<00:00, 24.97it/s]\n"
     ]
    },
    {
     "name": "stdout",
     "output_type": "stream",
     "text": [
      "Preprocessing valid dataset\n"
     ]
    },
    {
     "name": "stderr",
     "output_type": "stream",
     "text": [
      "100%|██████████| 535/535 [00:21<00:00, 24.97it/s]\n"
     ]
    },
    {
     "name": "stdout",
     "output_type": "stream",
     "text": [
      "Preprocessing test dataset\n"
     ]
    },
    {
     "name": "stderr",
     "output_type": "stream",
     "text": [
      "100%|██████████| 1113/1113 [00:45<00:00, 24.64it/s]\n"
     ]
    }
   ],
   "source": [
    "# preprocess\n",
    "print(\"Preprocessing train dataset\")\n",
    "x_train, y_train = preprocess(train)\n",
    "print(\"Preprocessing valid dataset\")\n",
    "x_valid, y_valid = preprocess(valid)\n",
    "print(\"Preprocessing test dataset\")\n",
    "x_test, y_test = preprocess(test)"
   ]
  },
  {
   "cell_type": "code",
   "execution_count": 8,
   "metadata": {},
   "outputs": [],
   "source": [
    "np.savez_compressed('../data/isketcher/dataset.npz', x_train=x_train, y_train=y_train,\n",
    "                    x_valid=x_valid, y_valid=y_valid, x_test=x_test, y_test=y_test)\n"
   ]
  },
  {
   "cell_type": "code",
   "execution_count": 9,
   "metadata": {},
   "outputs": [
    {
     "name": "stdout",
     "output_type": "stream",
     "text": [
      "['x_train', 'y_train', 'x_valid', 'y_valid', 'x_test', 'y_test']\n",
      "(5617, 92, 130)\n",
      "(5617, 92)\n",
      "(535, 55, 130)\n",
      "(535, 55)\n",
      "(1113, 43, 130)\n",
      "(1113, 43)\n"
     ]
    }
   ],
   "source": [
    "dataset = np.load('../data/isketcher/dataset.npz')\n",
    "print(dataset.files)\n",
    "print(dataset['x_train'].shape)\n",
    "print(dataset['y_train'].shape)\n",
    "print(dataset['x_valid'].shape)\n",
    "print(dataset['y_valid'].shape)\n",
    "print(dataset['x_test'].shape)\n",
    "print(dataset['y_test'].shape)\n"
   ]
  }
 ],
 "metadata": {
  "interpreter": {
   "hash": "45ddb2f520d5841844bae62ac6ba90fc4ad0236a720fe6a2974c193e3d0c3fbd"
  },
  "kernelspec": {
   "display_name": "Python 3.6.13 64-bit ('i-sketcher': conda)",
   "language": "python",
   "name": "python3"
  },
  "language_info": {
   "codemirror_mode": {
    "name": "ipython",
    "version": 3
   },
   "file_extension": ".py",
   "mimetype": "text/x-python",
   "name": "python",
   "nbconvert_exporter": "python",
   "pygments_lexer": "ipython3",
   "version": "3.6.13"
  },
  "orig_nbformat": 4
 },
 "nbformat": 4,
 "nbformat_minor": 2
}
