{
 "cells": [
  {
   "cell_type": "code",
   "execution_count": 1,
   "metadata": {},
   "outputs": [],
   "source": [
    "import sys\n",
    "\n",
    "sys.path.append(\"../sketchformer\")\n"
   ]
  },
  {
   "cell_type": "code",
   "execution_count": 2,
   "metadata": {},
   "outputs": [],
   "source": [
    "from tqdm import tqdm\n",
    "import json\n",
    "import pandas as pd\n",
    "import tensorflow as tf\n",
    "import numpy as np\n"
   ]
  },
  {
   "cell_type": "code",
   "execution_count": 3,
   "metadata": {},
   "outputs": [
    {
     "name": "stdout",
     "output_type": "stream",
     "text": [
      "train: 5617, valid: 535, test: 1113\n"
     ]
    }
   ],
   "source": [
    "# load dataset\n",
    "with open('../data/isketcher/train.json', 'r') as f:\n",
    "    train = json.load(f)\n",
    "with open('../data/isketcher/valid.json', 'r') as f:\n",
    "    valid = json.load(f)\n",
    "with open('../data/isketcher/test.json', 'r') as f:\n",
    "    test = json.load(f)\n",
    "\n",
    "print(f\"train: {len(train)}, valid: {len(valid)}, test: {len(test)}\")\n"
   ]
  },
  {
   "cell_type": "code",
   "execution_count": 4,
   "metadata": {},
   "outputs": [
    {
     "name": "stdout",
     "output_type": "stream",
     "text": [
      "41\n",
      "['none', 'airplane', 'apple', 'hot air balloon', 'banana', 'basket', 'bee', 'bench', 'bicycle', 'bird', 'wine bottle', 'bucket', 'bus', 'butterfly', 'car', 'cat', 'chair', 'cloud', 'cow', 'cup', 'dog', 'duck', 'fence', 'flower', 'grapes', 'grass', 'horse', 'house', 'moon', 'mountain', 'face', 'pig', 'rabbit', 'sheep', 'star', 'streetlight', 'sun', 'table', 'tree', 'truck', 'umbrella']\n",
      "{'none': 0, 'airplane': 1, 'apple': 2, 'hot air balloon': 3, 'banana': 4, 'basket': 5, 'bee': 6, 'bench': 7, 'bicycle': 8, 'bird': 9, 'wine bottle': 10, 'bucket': 11, 'bus': 12, 'butterfly': 13, 'car': 14, 'cat': 15, 'chair': 16, 'cloud': 17, 'cow': 18, 'cup': 19, 'dog': 20, 'duck': 21, 'fence': 22, 'flower': 23, 'grapes': 24, 'grass': 25, 'horse': 26, 'house': 27, 'moon': 28, 'mountain': 29, 'face': 30, 'pig': 31, 'rabbit': 32, 'sheep': 33, 'star': 34, 'streetlight': 35, 'sun': 36, 'table': 37, 'tree': 38, 'truck': 39, 'umbrella': 40}\n"
     ]
    }
   ],
   "source": [
    "# load class label\n",
    "df = pd.read_csv('../outputs/sketchyscene_quickdraw.csv')\n",
    "df = df.dropna(subset=['quickdraw_label'])\n",
    "class_names = ['none']\n",
    "for row in df.itertuples():\n",
    "    class_names.append(row.quickdraw_label)\n",
    "class_to_num = dict(zip(class_names, range(0, len(class_names))))\n",
    "\n",
    "print(len(class_names))\n",
    "print(class_names)\n",
    "print(class_to_num)\n"
   ]
  },
  {
   "cell_type": "code",
   "execution_count": 5,
   "metadata": {},
   "outputs": [
    {
     "name": "stdout",
     "output_type": "stream",
     "text": [
      "[run-experiment] resorting checkpoint if exists\n",
      "[Checkpoint] Restored, step #207536\n"
     ]
    }
   ],
   "source": [
    "# load sketchformer\n",
    "from basic_usage.sketchformer import continuous_embeddings\n",
    "sketchformer = continuous_embeddings.get_pretrained_model()\n"
   ]
  },
  {
   "cell_type": "code",
   "execution_count": 6,
   "metadata": {},
   "outputs": [],
   "source": [
    "# define preprocess\n",
    "def preprocess(dataset):\n",
    "    input_batch = []\n",
    "    label_batch = []\n",
    "    for scene in tqdm(dataset):\n",
    "        sketches = list(map(lambda o: o['sketch'], scene))\n",
    "        sketch_embeddings = sketchformer.get_embeddings(sketches)\n",
    "        input_scene = []\n",
    "        labels = []\n",
    "        for se, obj in zip(sketch_embeddings, scene):\n",
    "            p = list(map(lambda x: x / 750, obj['position']))\n",
    "            o = se.numpy().tolist() + p\n",
    "            input_scene.append(o)  # オブジェクトの数が不規則\n",
    "            labels.append(class_to_num[obj['label']])  # convert to num\n",
    "        input_batch.append(input_scene)\n",
    "        label_batch.append(labels)\n",
    "    return tf.ragged.constant(input_batch).to_tensor(0.), tf.ragged.constant(label_batch).to_tensor(0)\n"
   ]
  },
  {
   "cell_type": "code",
   "execution_count": 7,
   "metadata": {},
   "outputs": [
    {
     "name": "stdout",
     "output_type": "stream",
     "text": [
      "Preprocessing train dataset\n"
     ]
    },
    {
     "name": "stderr",
     "output_type": "stream",
     "text": [
      "100%|██████████| 5617/5617 [03:42<00:00, 25.19it/s]\n"
     ]
    },
    {
     "name": "stdout",
     "output_type": "stream",
     "text": [
      "Preprocessing valid dataset\n"
     ]
    },
    {
     "name": "stderr",
     "output_type": "stream",
     "text": [
      "100%|██████████| 535/535 [00:21<00:00, 25.37it/s]\n"
     ]
    },
    {
     "name": "stdout",
     "output_type": "stream",
     "text": [
      "Preprocessing test dataset\n"
     ]
    },
    {
     "name": "stderr",
     "output_type": "stream",
     "text": [
      "100%|██████████| 1113/1113 [00:44<00:00, 24.92it/s]\n"
     ]
    }
   ],
   "source": [
    "# preprocess\n",
    "print(\"Preprocessing train dataset\")\n",
    "x_train, y_train = preprocess(train)\n",
    "print(\"Preprocessing valid dataset\")\n",
    "x_valid, y_valid = preprocess(valid)\n",
    "print(\"Preprocessing test dataset\")\n",
    "x_test, y_test = preprocess(test)"
   ]
  },
  {
   "cell_type": "code",
   "execution_count": 8,
   "metadata": {},
   "outputs": [],
   "source": [
    "np.savez_compressed('../data/isketcher/dataset.npz', x_train=x_train, y_train=y_train,\n",
    "                    x_valid=x_valid, y_valid=y_valid, x_test=x_test, y_test=y_test)\n"
   ]
  },
  {
   "cell_type": "code",
   "execution_count": 9,
   "metadata": {},
   "outputs": [
    {
     "name": "stdout",
     "output_type": "stream",
     "text": [
      "['x_train', 'y_train', 'x_valid', 'y_valid', 'x_test', 'y_test']\n",
      "(5617, 92, 132)\n",
      "(5617, 92)\n",
      "(535, 55, 132)\n",
      "(535, 55)\n",
      "(1113, 43, 132)\n",
      "(1113, 43)\n"
     ]
    }
   ],
   "source": [
    "dataset = np.load('../data/isketcher/dataset.npz')\n",
    "print(dataset.files)\n",
    "print(dataset['x_train'].shape)\n",
    "print(dataset['y_train'].shape)\n",
    "print(dataset['x_valid'].shape)\n",
    "print(dataset['y_valid'].shape)\n",
    "print(dataset['x_test'].shape)\n",
    "print(dataset['y_test'].shape)\n"
   ]
  },
  {
   "cell_type": "code",
   "execution_count": null,
   "metadata": {},
   "outputs": [],
   "source": []
  }
 ],
 "metadata": {
  "interpreter": {
   "hash": "45ddb2f520d5841844bae62ac6ba90fc4ad0236a720fe6a2974c193e3d0c3fbd"
  },
  "kernelspec": {
   "display_name": "Python 3.6.13 64-bit ('i-sketcher': conda)",
   "language": "python",
   "name": "python3"
  },
  "language_info": {
   "codemirror_mode": {
    "name": "ipython",
    "version": 3
   },
   "file_extension": ".py",
   "mimetype": "text/x-python",
   "name": "python",
   "nbconvert_exporter": "python",
   "pygments_lexer": "ipython3",
   "version": "3.6.13"
  },
  "orig_nbformat": 4
 },
 "nbformat": 4,
 "nbformat_minor": 2
}
