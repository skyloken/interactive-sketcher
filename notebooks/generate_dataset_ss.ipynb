{
 "cells": [
  {
   "cell_type": "code",
   "execution_count": 1,
   "source": [
    "# import\n",
    "\n",
    "import pandas as pd\n",
    "from dataclasses import dataclass, asdict\n",
    "from PIL import Image, ImageChops, ImageDraw, ImageFont\n",
    "from pprint import pprint\n",
    "import numpy as np\n",
    "import random\n",
    "import os"
   ],
   "outputs": [],
   "metadata": {}
  },
  {
   "cell_type": "code",
   "execution_count": 12,
   "source": [
    "# test load quick draw\n",
    "apple = np.load('../data/sketch_rnn/apple.npz', encoding='latin1', allow_pickle=True)\n",
    "print(apple.files)\n",
    "print(apple['train'][0].shape)\n",
    "print(apple['train'][0])"
   ],
   "outputs": [
    {
     "output_type": "stream",
     "name": "stdout",
     "text": [
      "['test', 'train', 'valid']\n",
      "(43, 3)\n",
      "[[-17 -18   0]\n",
      " [-19 -14   0]\n",
      " [-32  -2   0]\n",
      " [-13   5   0]\n",
      " [-17  11   0]\n",
      " [ -9  11   0]\n",
      " [ -9  48   0]\n",
      " [  3  32   0]\n",
      " [  9  15   0]\n",
      " [ 64  70   0]\n",
      " [  9  45   0]\n",
      " [ 10  10   0]\n",
      " [ 19   3   0]\n",
      " [ 12 -15   0]\n",
      " [ 22   0   0]\n",
      " [ 10   6   0]\n",
      " [  5  -2   0]\n",
      " [ 15 -34   0]\n",
      " [ 37 -37   0]\n",
      " [  5 -10   0]\n",
      " [  6 -15   0]\n",
      " [  6 -33   0]\n",
      " [  2 -37   0]\n",
      " [ -5 -13   0]\n",
      " [-12 -15   0]\n",
      " [-48 -33   0]\n",
      " [-13  -1   0]\n",
      " [-14   6   0]\n",
      " [-18  15   0]\n",
      " [ -5   8   1]\n",
      " [  3 -19   0]\n",
      " [ -1 -16   0]\n",
      " [ 27 -54   1]\n",
      " [-18  28   0]\n",
      " [  4  -5   0]\n",
      " [ 30  -9   0]\n",
      " [ 19  -1   0]\n",
      " [ 31  18   0]\n",
      " [ -8   0   0]\n",
      " [-19   7   0]\n",
      " [-25  16   0]\n",
      " [-22   1   0]\n",
      " [-18  -8   1]]\n"
     ]
    }
   ],
   "metadata": {}
  },
  {
   "cell_type": "code",
   "execution_count": null,
   "source": [],
   "outputs": [],
   "metadata": {}
  }
 ],
 "metadata": {
  "orig_nbformat": 4,
  "language_info": {
   "name": "python",
   "version": "3.9.7",
   "mimetype": "text/x-python",
   "codemirror_mode": {
    "name": "ipython",
    "version": 3
   },
   "pygments_lexer": "ipython3",
   "nbconvert_exporter": "python",
   "file_extension": ".py"
  },
  "kernelspec": {
   "name": "python3",
   "display_name": "Python 3.9.7 64-bit ('miniforge3-4.9.2': pyenv)"
  },
  "interpreter": {
   "hash": "27ed3dc916b0f307cc82df7e95254230cfb5325751622bb30f523c27fc195851"
  }
 },
 "nbformat": 4,
 "nbformat_minor": 2
}