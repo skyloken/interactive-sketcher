{
 "cells": [
  {
   "cell_type": "code",
   "execution_count": 12,
   "metadata": {},
   "outputs": [
    {
     "name": "stdout",
     "output_type": "stream",
     "text": [
      "loading cow drawings\n",
      "load complete\n",
      "[[(87, 231), (84, 226), (84, 156)], [(90, 234), (100, 198), (103, 137)], [(98, 231), (105, 227), (111, 206), (112, 137)], [(196, 219), (191, 120)], [(198, 220), (207, 220), (212, 217), (221, 192), (222, 170), (211, 135)], [(217, 218), (246, 164), (245, 145), (234, 120)], [(84, 152), (81, 148), (83, 131), (87, 128), (51, 118), (47, 114), (47, 92), (52, 76), (62, 67), (80, 61), (109, 56), (168, 54), (188, 56), (220, 67), (245, 86), (255, 109), (254, 115), (225, 124), (191, 125)], [(80, 123), (79, 120), (86, 119), (101, 127), (107, 134), (96, 135), (86, 129), (87, 114), (93, 107), (100, 105), (99, 114), (87, 123), (76, 125), (74, 119), (85, 113), (86, 118), (83, 124), (77, 122), (80, 117), (88, 112), (97, 110), (99, 119), (92, 126), (79, 130), (77, 126), (81, 119)], [(230, 109), (232, 97), (238, 97), (245, 110), (243, 119), (237, 118), (234, 104), (238, 97), (246, 93), (229, 106), (235, 100), (243, 100), (248, 106), (245, 113), (235, 114), (231, 110), (235, 106), (240, 108)], [(135, 63), (146, 70), (146, 75), (141, 74), (140, 66), (145, 57), (152, 55), (155, 77), (145, 76), (142, 62), (151, 59), (160, 63), (158, 65), (139, 67), (130, 63), (138, 62), (151, 66), (154, 71), (150, 75), (143, 75), (137, 70), (140, 64), (150, 62), (153, 66), (151, 71), (144, 71), (144, 65)], [(186, 131), (183, 120), (184, 106), (191, 100), (200, 102), (198, 111), (189, 118), (182, 119), (180, 113), (182, 109), (190, 107), (200, 113), (189, 107), (195, 102), (200, 104), (198, 111), (185, 114), (186, 105), (191, 98), (196, 112), (193, 119), (189, 120), (190, 103), (198, 104), (199, 108), (196, 110)], [(99, 141), (139, 131), (172, 130), (188, 121)], [(122, 111), (129, 122), (126, 126), (122, 121), (126, 116), (137, 110), (145, 110), (147, 122), (139, 125), (136, 121), (143, 117), (148, 122), (145, 127), (137, 120), (134, 106), (141, 103), (146, 109), (147, 114), (141, 116), (138, 108)], [(15, 86), (8, 81), (4, 67), (4, 51), (15, 37), (39, 25), (45, 25), (53, 35), (60, 51), (61, 70), (35, 86), (28, 86)], [(13, 56), (3, 33), (0, 6), (5, 3), (10, 7), (22, 25)], [(35, 28), (49, 6), (56, 1), (63, 14), (57, 50)]]\n",
      "16\n"
     ]
    },
    {
     "data": {
      "image/png": "[encoded data removed]",
      "text/plain": [
       "<PIL.Image.Image image mode=RGB size=255x255 at 0x7FCD967A2C50>"
      ]
     },
     "execution_count": 12,
     "metadata": {},
     "output_type": "execute_result"
    }
   ],
   "source": [
    "from quickdraw import QuickDrawData\n",
    "qd = QuickDrawData()\n",
    "drawing = qd.get_drawing(\"cow\")\n",
    "\n",
    "print(drawing.strokes)\n",
    "print(len(drawing.strokes))\n",
    "drawing.image"
   ]
  },
  {
   "cell_type": "code",
   "execution_count": 13,
   "metadata": {},
   "outputs": [
    {
     "name": "stdout",
     "output_type": "stream",
     "text": [
      "loading anvil drawings\n",
      "load complete\n",
      "1000\n"
     ]
    }
   ],
   "source": [
    "from quickdraw import QuickDrawDataGroup\n",
    "\n",
    "anvils = QuickDrawDataGroup(\"anvil\")\n",
    "print(anvils.drawing_count)"
   ]
  },
  {
   "cell_type": "code",
   "execution_count": 15,
   "metadata": {},
   "outputs": [
    {
     "name": "stdout",
     "output_type": "stream",
     "text": [
      "['aircraft carrier', 'airplane', 'alarm clock', 'ambulance', 'angel', 'animal migration', 'ant', 'anvil', 'apple', 'arm', 'asparagus', 'axe', 'backpack', 'banana', 'bandage', 'barn', 'baseball bat', 'baseball', 'basket', 'basketball', 'bat', 'bathtub', 'beach', 'bear', 'beard', 'bed', 'bee', 'belt', 'bench', 'bicycle', 'binoculars', 'bird', 'birthday cake', 'blackberry', 'blueberry', 'book', 'boomerang', 'bottlecap', 'bowtie', 'bracelet', 'brain', 'bread', 'bridge', 'broccoli', 'broom', 'bucket', 'bulldozer', 'bus', 'bush', 'butterfly', 'cactus', 'cake', 'calculator', 'calendar', 'camel', 'camera', 'camouflage', 'campfire', 'candle', 'cannon', 'canoe', 'car', 'carrot', 'castle', 'cat', 'ceiling fan', 'cell phone', 'cello', 'chair', 'chandelier', 'church', 'circle', 'clarinet', 'clock', 'cloud', 'coffee cup', 'compass', 'computer', 'cookie', 'cooler', 'couch', 'cow', 'crab', 'crayon', 'crocodile', 'crown', 'cruise ship', 'cup', 'diamond', 'dishwasher', 'diving board', 'dog', 'dolphin', 'donut', 'door', 'dragon', 'dresser', 'drill', 'drums', 'duck', 'dumbbell', 'ear', 'elbow', 'elephant', 'envelope', 'eraser', 'eye', 'eyeglasses', 'face', 'fan', 'feather', 'fence', 'finger', 'fire hydrant', 'fireplace', 'firetruck', 'fish', 'flamingo', 'flashlight', 'flip flops', 'floor lamp', 'flower', 'flying saucer', 'foot', 'fork', 'frog', 'frying pan', 'garden hose', 'garden', 'giraffe', 'goatee', 'golf club', 'grapes', 'grass', 'guitar', 'hamburger', 'hammer', 'hand', 'harp', 'hat', 'headphones', 'hedgehog', 'helicopter', 'helmet', 'hexagon', 'hockey puck', 'hockey stick', 'horse', 'hospital', 'hot air balloon', 'hot dog', 'hot tub', 'hourglass', 'house plant', 'house', 'hurricane', 'ice cream', 'jacket', 'jail', 'kangaroo', 'key', 'keyboard', 'knee', 'knife', 'ladder', 'lantern', 'laptop', 'leaf', 'leg', 'light bulb', 'lighter', 'lighthouse', 'lightning', 'line', 'lion', 'lipstick', 'lobster', 'lollipop', 'mailbox', 'map', 'marker', 'matches', 'megaphone', 'mermaid', 'microphone', 'microwave', 'monkey', 'moon', 'mosquito', 'motorbike', 'mountain', 'mouse', 'moustache', 'mouth', 'mug', 'mushroom', 'nail', 'necklace', 'nose', 'ocean', 'octagon', 'octopus', 'onion', 'oven', 'owl', 'paint can', 'paintbrush', 'palm tree', 'panda', 'pants', 'paper clip', 'parachute', 'parrot', 'passport', 'peanut', 'pear', 'peas', 'pencil', 'penguin', 'piano', 'pickup truck', 'picture frame', 'pig', 'pillow', 'pineapple', 'pizza', 'pliers', 'police car', 'pond', 'pool', 'popsicle', 'postcard', 'potato', 'power outlet', 'purse', 'rabbit', 'raccoon', 'radio', 'rain', 'rainbow', 'rake', 'remote control', 'rhinoceros', 'rifle', 'river', 'roller coaster', 'rollerskates', 'sailboat', 'sandwich', 'saw', 'saxophone', 'school bus', 'scissors', 'scorpion', 'screwdriver', 'sea turtle', 'see saw', 'shark', 'sheep', 'shoe', 'shorts', 'shovel', 'sink', 'skateboard', 'skull', 'skyscraper', 'sleeping bag', 'smiley face', 'snail', 'snake', 'snorkel', 'snowflake', 'snowman', 'soccer ball', 'sock', 'speedboat', 'spider', 'spoon', 'spreadsheet', 'square', 'squiggle', 'squirrel', 'stairs', 'star', 'steak', 'stereo', 'stethoscope', 'stitches', 'stop sign', 'stove', 'strawberry', 'streetlight', 'string bean', 'submarine', 'suitcase', 'sun', 'swan', 'sweater', 'swing set', 'sword', 'syringe', 't-shirt', 'table', 'teapot', 'teddy-bear', 'telephone', 'television', 'tennis racquet', 'tent', 'The Eiffel Tower', 'The Great Wall of China', 'The Mona Lisa', 'tiger', 'toaster', 'toe', 'toilet', 'tooth', 'toothbrush', 'toothpaste', 'tornado', 'tractor', 'traffic light', 'train', 'tree', 'triangle', 'trombone', 'truck', 'trumpet', 'umbrella', 'underwear', 'van', 'vase', 'violin', 'washing machine', 'watermelon', 'waterslide', 'whale', 'wheel', 'windmill', 'wine bottle', 'wine glass', 'wristwatch', 'yoga', 'zebra', 'zigzag']\n",
      "345\n"
     ]
    }
   ],
   "source": [
    "print(qd.drawing_names)\n",
    "print(len(qd.drawing_names))"
   ]
  },
  {
   "cell_type": "code",
   "execution_count": null,
   "metadata": {},
   "outputs": [],
   "source": []
  }
 ],
 "metadata": {
  "interpreter": {
   "hash": "45ddb2f520d5841844bae62ac6ba90fc4ad0236a720fe6a2974c193e3d0c3fbd"
  },
  "kernelspec": {
   "display_name": "Python 3.9.2 64-bit ('miniforge3-4.9.2': pyenv)",
   "language": "python",
   "name": "python3"
  },
  "language_info": {
   "codemirror_mode": {
    "name": "ipython",
    "version": 3
   },
   "file_extension": ".py",
   "mimetype": "text/x-python",
   "name": "python",
   "nbconvert_exporter": "python",
   "pygments_lexer": "ipython3",
   "version": "3.6.13"
  },
  "metadata": {
   "interpreter": {
    "hash": "27ed3dc916b0f307cc82df7e95254230cfb5325751622bb30f523c27fc195851"
   }
  },
  "orig_nbformat": 2
 },
 "nbformat": 4,
 "nbformat_minor": 2
}
