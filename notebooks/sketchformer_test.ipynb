{
 "cells": [
  {
   "cell_type": "code",
   "execution_count": 16,
   "metadata": {},
   "outputs": [
    {
     "name": "stdout",
     "output_type": "stream",
     "text": [
      "[run-experiment] resorting checkpoint if exists\n",
      "[Checkpoint] Restored, step #207536\n"
     ]
    }
   ],
   "source": [
    "import sys\n",
    "sys.path.append(\"../sketchformer\")\n",
    "\n",
    "from basic_usage.sketchformer import continuous_embeddings\n",
    "sketchformer = continuous_embeddings.get_pretrained_model()"
   ]
  },
  {
   "cell_type": "code",
   "execution_count": 17,
   "metadata": {},
   "outputs": [],
   "source": [
    "%matplotlib inline\n",
    "from matplotlib import pyplot as plt\n",
    "\n",
    "def visualize(sketch):\n",
    "    X = []\n",
    "    Y = []\n",
    "\n",
    "    tmp_x, tmp_y = [], []\n",
    "    sx = sy = 0\n",
    "    for p in sketch:\n",
    "        sx += p[0]\n",
    "        sy += p[1]\n",
    "        tmp_x.append(sx)\n",
    "        tmp_y.append(-sy)\n",
    "        if p[2] == 1:\n",
    "            X.append(tmp_x)\n",
    "            Y.append(tmp_y)\n",
    "            tmp_x, tmp_y = [], []\n",
    "\n",
    "    X.append(tmp_x)\n",
    "    Y.append(tmp_y)\n",
    "\n",
    "    for x, y in zip(X, Y):\n",
    "        plt.plot(x, y)\n",
    "\n",
    "    # save the image.\n",
    "    # plt.savefig(\"sample.png\")\n",
    "\n",
    "    # show the plot\n",
    "    plt.axes().set_aspect('equal')\n",
    "    plt.show()"
   ]
  },
  {
   "cell_type": "code",
   "execution_count": 18,
   "metadata": {},
   "outputs": [
    {
     "name": "stdout",
     "output_type": "stream",
     "text": [
      "[[ -18  -33    0]\n",
      " [ -12  -12    0]\n",
      " [ -16    0    0]\n",
      " [  -7    4    0]\n",
      " [ -38   29    0]\n",
      " [ -24   26    0]\n",
      " [ -11   29    0]\n",
      " [  -8   55    0]\n",
      " [   0   67    0]\n",
      " [   2   15    0]\n",
      " [   6   10    0]\n",
      " [  11    9    0]\n",
      " [  51   19    0]\n",
      " [  18    5    0]\n",
      " [  33    3    0]\n",
      " [  21  -14    0]\n",
      " [  67  -89    0]\n",
      " [  10   -9    0]\n",
      " [  35  -59    0]\n",
      " [   7  -26    0]\n",
      " [  -8  -16    0]\n",
      " [ -10  -11    0]\n",
      " [  -6   -2    0]\n",
      " [-122    7    0]\n",
      " [   9   -6    1]\n",
      " [   3    0    0]\n",
      " [   5   -1    0]\n",
      " [   9  -12    0]\n",
      " [  27  -57    1]\n",
      " [ -35   44    0]\n",
      " [  33    0    0]\n",
      " [  10   -5    0]\n",
      " [   0   16    0]\n",
      " [  -9   12    0]\n",
      " [  -5    2    0]\n",
      " [ -19    0    0]\n",
      " [ -12   -8    0]\n",
      " [   2  -17    1]]\n"
     ]
    },
    {
     "data": {
      "image/png": "[encoded data removed]",
      "text/plain": [
       "<Figure size 432x288 with 1 Axes>"
      ]
     },
     "metadata": {
      "needs_background": "light"
     },
     "output_type": "display_data"
    }
   ],
   "source": [
    "import numpy as np\n",
    "import random\n",
    "\n",
    "# load npz\n",
    "filename = \"../sketchformer/basic_usage/quickdraw_samples/sketchrnn_apple.npz\"\n",
    "apples = np.load(filename, encoding='latin1', allow_pickle=True)\n",
    "\n",
    "# pick sample\n",
    "N_apple = 1\n",
    "apple_sketch = []\n",
    "for _ in range(N_apple):\n",
    "    ind = random.randint(0, len(apples['test']) - 1)\n",
    "    apple_sketch.append(apples['test'][ind])\n",
    "\n",
    "# visualize\n",
    "print(apple_sketch[0])\n",
    "visualize(apple_sketch[0])"
   ]
  },
  {
   "cell_type": "code",
   "execution_count": 19,
   "metadata": {},
   "outputs": [
    {
     "data": {
      "text/plain": [
       "['apple']"
      ]
     },
     "execution_count": 19,
     "metadata": {},
     "output_type": "execute_result"
    }
   ],
   "source": [
    "sketchformer.classify(apple_sketch)"
   ]
  },
  {
   "cell_type": "code",
   "execution_count": null,
   "metadata": {},
   "outputs": [],
   "source": []
  }
 ],
 "metadata": {
  "interpreter": {
   "hash": "45ddb2f520d5841844bae62ac6ba90fc4ad0236a720fe6a2974c193e3d0c3fbd"
  },
  "kernelspec": {
   "display_name": "Python 3.10.0 64-bit ('i-sketcher': conda)",
   "name": "python3"
  },
  "language_info": {
   "codemirror_mode": {
    "name": "ipython",
    "version": 3
   },
   "file_extension": ".py",
   "mimetype": "text/x-python",
   "name": "python",
   "nbconvert_exporter": "python",
   "pygments_lexer": "ipython3",
   "version": "3.6.13"
  },
  "orig_nbformat": 4
 },
 "nbformat": 4,
 "nbformat_minor": 2
}
