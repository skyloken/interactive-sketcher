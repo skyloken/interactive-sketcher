{
 "cells": [
  {
   "cell_type": "code",
   "execution_count": 1,
   "metadata": {},
   "outputs": [
    {
     "name": "stdout",
     "output_type": "stream",
     "text": [
      "[run-experiment] resorting checkpoint if exists\n",
      "[Checkpoint] Restored, step #207536\n"
     ]
    }
   ],
   "source": [
    "import sys\n",
    "sys.path.append(\"../sketchformer\")\n",
    "\n",
    "from basic_usage.sketchformer import continuous_embeddings\n",
    "sketchformer = continuous_embeddings.get_pretrained_model()"
   ]
  },
  {
   "cell_type": "code",
   "execution_count": 4,
   "metadata": {},
   "outputs": [],
   "source": [
    "%matplotlib inline\n",
    "from matplotlib import pyplot as plt\n",
    "\n",
    "def visualize(sketch):\n",
    "    X = []\n",
    "    Y = []\n",
    "\n",
    "    tmp_x, tmp_y = [], []\n",
    "    sx = sy = 0\n",
    "    for p in sketch:\n",
    "        sx += p[0]\n",
    "        sy += p[1]\n",
    "        if p[2] == 1:\n",
    "            X.append(tmp_x)\n",
    "            Y.append(tmp_y)\n",
    "            tmp_x, tmp_y = [], []\n",
    "        else:\n",
    "            tmp_x.append(sx)\n",
    "            tmp_y.append(-sy)\n",
    "\n",
    "    X.append(tmp_x)\n",
    "    Y.append(tmp_y)\n",
    "\n",
    "    for x, y in zip(X, Y):\n",
    "        plt.plot(x, y)\n",
    "\n",
    "    # save the image.\n",
    "    # plt.savefig(\"sample.png\")\n",
    "\n",
    "    # show the plot\n",
    "    plt.show()"
   ]
  },
  {
   "cell_type": "code",
   "execution_count": 5,
   "metadata": {},
   "outputs": [
    {
     "name": "stdout",
     "output_type": "stream",
     "text": [
      "[array([[ -3, -19,   0],\n",
      "       [-11, -22,   0],\n",
      "       [-25, -11,   0],\n",
      "       [-25,  -1,   0],\n",
      "       [ -6,   1,   0],\n",
      "       [-10,   8,   0],\n",
      "       [-22,  30,   0],\n",
      "       [-13,  30,   0],\n",
      "       [ -1,  40,   0],\n",
      "       [ 15,  14,   0],\n",
      "       [ 49,  11,   0],\n",
      "       [ 18,  10,   0],\n",
      "       [ 16,  -4,   0],\n",
      "       [ 23, -11,   0],\n",
      "       [ 23, -23,   0],\n",
      "       [  8, -15,   0],\n",
      "       [  4, -55,   0],\n",
      "       [  0, -18,   0],\n",
      "       [ -5,  -3,   0],\n",
      "       [-33,  27,   0],\n",
      "       [  2, -63,   0],\n",
      "       [  4, -23,   0],\n",
      "       [  3,  -5,   0],\n",
      "       [  0,   5,   0],\n",
      "       [ -4,  10,   0],\n",
      "       [ -1,  17,   0],\n",
      "       [ 17, -13,   0],\n",
      "       [ 17,  -4,   0],\n",
      "       [ -2,   5,   0],\n",
      "       [-25,  19,   0],\n",
      "       [ -7,  10,   1]], dtype=int16)]\n"
     ]
    },
    {
     "data": {
      "image/png": "[encoded data removed]",
      "text/plain": [
       "<Figure size 432x288 with 1 Axes>"
      ]
     },
     "metadata": {
      "needs_background": "light"
     },
     "output_type": "display_data"
    }
   ],
   "source": [
    "import numpy as np\n",
    "import random\n",
    "\n",
    "# load npz\n",
    "filename = \"../sketchformer/basic_usage/quickdraw_samples/sketchrnn_apple.npz\"\n",
    "apples = np.load(filename, encoding='latin1', allow_pickle=True)\n",
    "\n",
    "# pick sample\n",
    "N_apple = 1\n",
    "apple_sketch = []\n",
    "for _ in range(N_apple):\n",
    "    ind = random.randint(0, len(apples['test']) - 1)\n",
    "    apple_sketch.append(apples['test'][ind])\n",
    "\n",
    "# visualize\n",
    "visualize(apple_sketch[0])"
   ]
  },
  {
   "cell_type": "code",
   "execution_count": null,
   "metadata": {},
   "outputs": [],
   "source": []
  }
 ],
 "metadata": {
  "interpreter": {
   "hash": "45ddb2f520d5841844bae62ac6ba90fc4ad0236a720fe6a2974c193e3d0c3fbd"
  },
  "kernelspec": {
   "display_name": "Python 3.10.0 64-bit ('i-sketcher': conda)",
   "name": "python3"
  },
  "language_info": {
   "codemirror_mode": {
    "name": "ipython",
    "version": 3
   },
   "file_extension": ".py",
   "mimetype": "text/x-python",
   "name": "python",
   "nbconvert_exporter": "python",
   "pygments_lexer": "ipython3",
   "version": "3.6.13"
  },
  "orig_nbformat": 4
 },
 "nbformat": 4,
 "nbformat_minor": 2
}
