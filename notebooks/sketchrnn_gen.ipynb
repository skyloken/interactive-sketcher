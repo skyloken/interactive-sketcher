{
 "cells": [
  {
   "cell_type": "code",
   "execution_count": 1,
   "metadata": {},
   "outputs": [
    {
     "name": "stdout",
     "output_type": "stream",
     "text": [
      "tf: 2.1.0\n",
      "tf.keras: 2.2.4-tf\n",
      "Num GPUs Available:  1\n"
     ]
    }
   ],
   "source": [
    "%matplotlib inline\n",
    "%config InlineBackend.figure_format = 'retina'\n",
    "\n",
    "\n",
    "import os\n",
    "import sys\n",
    "import math\n",
    "import time\n",
    "import numpy as np\n",
    "import tensorflow as tf\n",
    "from tqdm import tqdm, trange\n",
    "from matplotlib import pyplot as plt\n",
    "from tensorflow import keras as K\n",
    "\n",
    "print(\"tf: {}\".format(tf.version.VERSION))\n",
    "print(\"tf.keras: {}\".format(K.__version__))\n",
    "print(\"Num GPUs Available: \", len(tf.config.experimental.list_physical_devices('GPU')))"
   ]
  },
  {
   "cell_type": "code",
   "execution_count": 2,
   "metadata": {},
   "outputs": [],
   "source": [
    "sys.path.append('../SketchRNN_tf2')\n",
    "from sketchrnn import models, dataset, utils"
   ]
  },
  {
   "cell_type": "code",
   "execution_count": 3,
   "metadata": {},
   "outputs": [],
   "source": [
    "data_class = 'airplane' #@param [\"cat\",\"eye\",\"rabbit\"]\n",
    "\n",
    "data = np.load(f'../data/quickdraw/{data_class}.npz',encoding='latin1',allow_pickle=True)\n",
    "\n",
    "data_train = [dataset.cleanup(d) for d in data['train']]\n",
    "data_valid = [dataset.cleanup(d) for d in data['valid']]\n",
    "data_test = [dataset.cleanup(d) for d in data['test']]\n",
    "\n",
    "hps = {\n",
    "    \"max_seq_len\": max(map(len, np.concatenate([data['train'], data['valid'], data['test']]))),\n",
    "    'batch_size': 100,\n",
    "    \"num_batches\": math.ceil(len(data_train) / 100),\n",
    "    \"epochs\": 100,\n",
    "    \"recurrent_dropout_prob\": 0.1, ## 0.0 for gpu lstm\n",
    "    \"enc_rnn_size\": 256,\n",
    "    \"dec_rnn_size\": 512,\n",
    "    \"z_size\": 128,\n",
    "    \"num_mixture\": 20,\n",
    "    \"learning_rate\": 0.001,\n",
    "    \"min_learning_rate\": 0.00001,\n",
    "    \"decay_rate\": 0.9999,\n",
    "    \"grad_clip\": 1.0,\n",
    "    'kl_tolerance': 0.2,\n",
    "    'kl_decay_rate': 0.99995,\n",
    "    \"kl_weight\": 0.5,\n",
    "    'kl_weight_start': 0.01,\n",
    "}"
   ]
  },
  {
   "cell_type": "code",
   "execution_count": 4,
   "metadata": {},
   "outputs": [
    {
     "name": "stdout",
     "output_type": "stream",
     "text": [
      "Model: \"sketchrnn\"\n",
      "__________________________________________________________________________________________________\n",
      "Layer (type)                    Output Shape         Param #     Connected to                     \n",
      "==================================================================================================\n",
      "encoder_input (InputLayer)      [(None, 99, 5)]      0                                            \n",
      "__________________________________________________________________________________________________\n",
      "encoder (Model)                 [(None, 128), (None, 667904      encoder_input[0][0]              \n",
      "__________________________________________________________________________________________________\n",
      "decoder_input (InputLayer)      [(None, None, 5)]    0                                            \n",
      "__________________________________________________________________________________________________\n",
      "initial_state (Model)           [(None, 512), (None, 132096      encoder[1][0]                    \n",
      "__________________________________________________________________________________________________\n",
      "decoder (Model)                 [(None, None, 123),  1386107     decoder_input[0][0]              \n",
      "                                                                 encoder[1][0]                    \n",
      "                                                                 initial_state[1][0]              \n",
      "                                                                 initial_state[1][1]              \n",
      "==================================================================================================\n",
      "Total params: 2,186,107\n",
      "Trainable params: 2,186,107\n",
      "Non-trainable params: 0\n",
      "__________________________________________________________________________________________________\n",
      "Loaded Weights From: ../data/sketchrnn/airplane/checkpoints/sketch_rnn_airplane_weights.10_0.30.hdf5\n"
     ]
    }
   ],
   "source": [
    "sketchrnn = models.SketchRNN(hps)\n",
    "sketchrnn.models['full'].summary()\n",
    "\n",
    "initial_epoch, initial_loss = 10, 0.30\n",
    "checkpoint = os.path.join(f'../data/sketchrnn/{data_class}/checkpoints', 'sketch_rnn_{}_weights.{:02d}_{:.2f}.hdf5').format(data_class, initial_epoch, initial_loss)\n",
    "sketchrnn.load_weights(checkpoint)"
   ]
  },
  {
   "cell_type": "code",
   "execution_count": 20,
   "metadata": {},
   "outputs": [
    {
     "data": {
      "image/png": "[encoded data removed]",
      "text/plain": [
       "<Figure size 216x216 with 1 Axes>"
      ]
     },
     "metadata": {
      "image/png": {
       "height": 208,
       "width": 208
      }
     },
     "output_type": "display_data"
    }
   ],
   "source": [
    "fig, ax = plt.subplots(figsize=(3, 3))\n",
    "\n",
    "strokes = sketchrnn.sample(temperature=0.01)\n",
    "utils.plot_strokes(ax, utils.to_normal_strokes(strokes))\n",
    "\n",
    "utils.plt_show()"
   ]
  }
 ],
 "metadata": {
  "interpreter": {
   "hash": "45ddb2f520d5841844bae62ac6ba90fc4ad0236a720fe6a2974c193e3d0c3fbd"
  },
  "kernelspec": {
   "display_name": "Python 3.6.13 64-bit ('i-sketcher': conda)",
   "language": "python",
   "name": "python3"
  },
  "language_info": {
   "codemirror_mode": {
    "name": "ipython",
    "version": 3
   },
   "file_extension": ".py",
   "mimetype": "text/x-python",
   "name": "python",
   "nbconvert_exporter": "python",
   "pygments_lexer": "ipython3",
   "version": "3.6.13"
  },
  "orig_nbformat": 4
 },
 "nbformat": 4,
 "nbformat_minor": 2
}
